{
 "cells": [
  {
   "cell_type": "code",
   "execution_count": 1,
   "metadata": {},
   "outputs": [
    {
     "name": "stderr",
     "output_type": "stream",
     "text": [
      "C:\\Users\\ai598\\Anaconda3\\lib\\site-packages\\pandas\\core\\computation\\expressions.py:20: UserWarning: Pandas requires version '2.7.3' or newer of 'numexpr' (version '2.7.1' currently installed).\n",
      "  from pandas.core.computation.check import NUMEXPR_INSTALLED\n"
     ]
    },
    {
     "name": "stdout",
     "output_type": "stream",
     "text": [
      "Created navigation trajectory object\n"
     ]
    }
   ],
   "source": [
    "import os\n",
    "path = 'C:\\\\Users\\\\ai598\\\\Thesis\\\\Navigation_Learning_Engine'\n",
    "os.chdir(path)\n",
    "import NavigationTrajectory as nt\n",
    "import pandas as pd\n",
    "import numpy as np\n",
    "import matplotlib.pyplot as plt\n",
    "import DataGenPrep as dgp\n",
    "import json "
   ]
  },
  {
   "cell_type": "markdown",
   "metadata": {},
   "source": [
    "* Generate random data/points with defined boundary conditions for x coordinate\n",
    "* Scale the data using min-max normalization\n",
    "* For static obstacle model, separate dataset into input set (Vix,Viy,Vgx,Vgy,Ox,Oy) and Target set(M1x,M1y,M2x,M2y)\n",
    "* Generate trajectory using input and target\n",
    "* Filter trajectory to find good trajectory for a given threshold\n",
    "* Generate specefic numbers/population of data with a given thresohld"
   ]
  },
  {
   "cell_type": "code",
   "execution_count": 2,
   "metadata": {},
   "outputs": [
    {
     "name": "stdout",
     "output_type": "stream",
     "text": [
      "DataGenPrep instance created\n",
      "Created navigation trajectory object\n"
     ]
    }
   ],
   "source": [
    "dgp  = dgp.DataGenPrep()\n",
    "nt = nt.NavigationTrajectory()"
   ]
  },
  {
   "cell_type": "markdown",
   "metadata": {},
   "source": [
    "#### Define Range"
   ]
  },
  {
   "cell_type": "code",
   "execution_count": null,
   "metadata": {},
   "outputs": [],
   "source": [
    "BcRange = {\n",
    "    \n",
    "    \"VI\"   : [18,190],\n",
    "    \n",
    "    \"VM1\"  : [300,500],\n",
    "    \n",
    "    \"VM2\"  : [501,700],\n",
    "    \n",
    "    \"VG\"   : [801,999],\n",
    "    \n",
    "    \"OI\"   : [0,999],\n",
    "    \n",
    "    \"OM1\"  : [300,500],\n",
    "    \n",
    "    \"OM2\"  : [501,700],\n",
    "    \n",
    "    \"OG\"   : [701,799]\n",
    "}\n",
    "\n",
    "# Convert and write JSON object to file\n",
    "with open(\"DataFiles\\BcRange.json\", \"w\") as outfile: \n",
    "    json.dump(BcRange, outfile)\n",
    "    \n",
    "# create column array and save as text file\n",
    "datacolumns = np.array([\"VIX1\",\"VIX2\", \"VM1X1\",\"VM1X2\",\"VM2X1\",\"VM2X2\",\"VGX1\",\"VGX2\",\"OIX1\",\"OIX2\",\"OM1X1\",\"OM1X2\",\"OM2X1\",\"OM2X2\",\"OGX1\",\"OGX2\"])\n",
    "np.savetxt('DataFiles\\DataFrameCol.txt', datacolumns, delimiter=\" \", fmt=\"%s\") "
   ]
  },
  {
   "cell_type": "code",
   "execution_count": null,
   "metadata": {},
   "outputs": [],
   "source": [
    "# open json file data as dict\n",
    "with open('DataFiles\\BcRange.json') as json_file:\n",
    "    data = json.load(json_file)\n",
    "\n",
    "# parse dict to numpy array\n",
    "myarray = dgp.ParseDict2Num(data)\n",
    "# open text file as numpy array wits stirngs of col name\n",
    "datacolumns = np.loadtxt(\"DataFiles\\DataFrameCol.txt\", dtype=str) "
   ]
  },
  {
   "cell_type": "markdown",
   "metadata": {},
   "source": [
    "#### Generate Good Input/Target/plot"
   ]
  },
  {
   "cell_type": "code",
   "execution_count": null,
   "metadata": {},
   "outputs": [],
   "source": [
    "# generate good input and target\n",
    "goodinp, goodtar = dgp.RandomGoodDataGenerator(myarray,5000, Threshold= 0.6,  parts = 100,  datapoint = 10 ) "
   ]
  },
  {
   "cell_type": "code",
   "execution_count": null,
   "metadata": {},
   "outputs": [],
   "source": [
    "goodinp"
   ]
  },
  {
   "cell_type": "code",
   "execution_count": null,
   "metadata": {},
   "outputs": [],
   "source": [
    "dataset = pd.DataFrame({'VIX': goodinp[:, 0], 'VIY': goodinp[:, 1],'VGX': goodinp[:, 2], 'VGY': goodinp[:, 3],'OIX': goodinp[:, 4], 'OIY': goodinp[:, 5]})\n",
    "dataset.to_csv('DataFiles\\goodinp_0.6.csv', index=False)  "
   ]
  },
  {
   "cell_type": "code",
   "execution_count": null,
   "metadata": {},
   "outputs": [],
   "source": [
    "dataset_tar = pd.DataFrame({'VM1X': goodtar[:, 0], 'VM1Y': goodtar[:, 1],'VM2X': goodtar[:, 2], 'VM2Y': goodtar[:, 3]})\n",
    "dataset_tar.to_csv('DataFiles\\goodtar_0.6.csv', index=False) "
   ]
  },
  {
   "cell_type": "markdown",
   "metadata": {},
   "source": [
    "#### Test"
   ]
  },
  {
   "cell_type": "code",
   "execution_count": null,
   "metadata": {},
   "outputs": [],
   "source": [
    "# test\n",
    "ind= np.random.randint(0,10)\n",
    "th = .2\n",
    "Vmove = nt.Gen_MoveC2(goodinp,goodtar,ind,parts=6)\n",
    "Opos  = goodinp[ind,[4,5]]\n",
    "nt.HitCheckPlot(Opos[0],Opos[1],th,Vmove)\n",
    "count = nt.StaticCheckBad(Vmove,Opos,th)\n",
    "print(\"count:\",count)\n",
    "print(\"index:\",ind)"
   ]
  },
  {
   "cell_type": "code",
   "execution_count": null,
   "metadata": {},
   "outputs": [],
   "source": []
  },
  {
   "cell_type": "markdown",
   "metadata": {},
   "source": [
    "#### Data Visualization"
   ]
  },
  {
   "attachments": {
    "a4296f97-e2cc-4d4d-ad04-a5ee170be4d0.png": {
     "image/png": "[encoded data removed]"
    }
   },
   "cell_type": "markdown",
   "metadata": {},
   "source": [
    "![image.png](attachment:a4296f97-e2cc-4d4d-ad04-a5ee170be4d0.png)"
   ]
  },
  {
   "cell_type": "code",
   "execution_count": null,
   "metadata": {},
   "outputs": [],
   "source": [
    "# Genrates random data\n",
    "RandomData = dgp.Data_Array(myarray,100)\n",
    "# scale random data with min-max\n",
    "sc_data = dgp.Scale_Data(RandomData) \n",
    "# Gaussian Distribution plot of all 16 data features\n",
    "dgp.GaussDistPlot(sc_data,datacolumns)"
   ]
  },
  {
   "cell_type": "markdown",
   "metadata": {},
   "source": [
    "### Modified Dataset"
   ]
  },
  {
   "attachments": {
    "cc1866ac-b97e-409f-960d-428c54121e38.png": {
     "image/png": "[encoded data removed]"
    }
   },
   "cell_type": "markdown",
   "metadata": {},
   "source": [
    "![image.png](attachment:cc1866ac-b97e-409f-960d-428c54121e38.png)"
   ]
  },
  {
   "cell_type": "markdown",
   "metadata": {},
   "source": [
    "**Modify Current Dataset**:\n",
    "\n",
    "> import current 0.6 threshold dataset\n",
    "\n",
    "> Change input column $OIY$ Value\n",
    ">> If $X_{i}\\geq0.5 \\ then \\ X_{i} = 1$\n",
    "\n",
    ">> Else $X_{i} = 0$\n",
    "\n",
    ">> $X_{i} \\in \\ OIY$\n",
    "\n",
    "> Change target column $VM1Y$ and $VM2Y$ Value\n",
    ">> Let $X_{i} \\in \\ OIY$\n",
    "\n",
    ">> $Y_{i} \\in \\ VM1Y$\n",
    "\n",
    ">> $Z_{i} \\in \\ VM2Y$\n",
    "\n",
    ">> If $X_{i} = 0$ then $Y_{i} = 1$ and $Z_{i} = 1$\n",
    "\n",
    ">> Else $Y_{i} = 0$ and $Z_{i} = 0$\n",
    "\n",
    "    \n",
    "\n"
   ]
  },
  {
   "cell_type": "code",
   "execution_count": 3,
   "metadata": {},
   "outputs": [],
   "source": [
    "def ReplaceOIYByCond(x):\n",
    "    if(x >= 0.5):\n",
    "        return 1\n",
    "    else:\n",
    "        return 0\n",
    "def ReplaceVMYByCond(x):\n",
    "    if(x==0):\n",
    "        return 1\n",
    "    else:\n",
    "        return 0\n",
    "    \n",
    "def ReplaceVMYByCond2(x):\n",
    "    if(x>=0.5):\n",
    "        return np.random.uniform(0,0.50)\n",
    "    else:\n",
    "        return np.random.uniform(0.55,1)\n",
    "\n",
    "def ReplaceOIYByCol(df):\n",
    "    i = 0\n",
    "    maxlen = len(df['OIY'])\n",
    "    while(i<maxlen):\n",
    "        df['OIY'].iloc[i] = ReplaceOIYByCond(df['OIY'].iloc[i])\n",
    "        i=i+1\n",
    "    return df\n",
    "\n",
    "def ReplaceVMYByCol(df1,df2):\n",
    "    \"\"\"\n",
    "    Input:\n",
    "        \n",
    "        df1: Input dataset\n",
    "        df2: target dataset\n",
    "    \n",
    "    Return:\n",
    "            \n",
    "        Target Dataset of repalced values \n",
    "        \n",
    "    \"\"\"\n",
    "    \n",
    "    i = 0\n",
    "    maxlen = len(df1['OIY'])\n",
    "    \n",
    "    while(i<maxlen):\n",
    "        df2['VM1Y'].iloc[i] = ReplaceVMYByCond2(df1['OIY'].iloc[i])\n",
    "        df2['VM2Y'].iloc[i] = ReplaceVMYByCond2(df1['OIY'].iloc[i])\n",
    "        i = i+1\n",
    "        \n",
    "    return df2         \n",
    "    \n",
    "    "
   ]
  },
  {
   "attachments": {
    "142fe9c5-44c6-4c2c-8e4c-0e4401f5dd40.png": {
     "image/png": "[encoded data removed]"
    }
   },
   "cell_type": "markdown",
   "metadata": {},
   "source": [
    "![image.png](attachment:142fe9c5-44c6-4c2c-8e4c-0e4401f5dd40.png)"
   ]
  },
  {
   "cell_type": "code",
   "execution_count": 54,
   "metadata": {},
   "outputs": [],
   "source": [
    "maxit = 10000\n",
    "VIX = np.random.uniform(.01,.20,maxit)\n",
    "VM1X = np.random.uniform(.21,.50,maxit)\n",
    "VM2X = np.random.uniform(.51,.80,maxit)\n",
    "VGX = np.random.uniform(.81,.99,maxit)\n",
    "OIX = np.random.uniform(.25,.85,maxit)\n",
    "\n",
    "VIY = np.random.uniform(.01,.99,maxit)\n",
    "VM1Y = np.random.uniform(.01,.99,maxit)\n",
    "VM2Y = np.random.uniform(.01,.99,maxit)\n",
    "VGY = np.random.uniform(.01,.99,maxit)\n",
    "OIY = np.random.uniform(.01,.99,maxit)"
   ]
  },
  {
   "cell_type": "code",
   "execution_count": 55,
   "metadata": {},
   "outputs": [
    {
     "data": {
      "text/html": [
       "<div>\n",
       "<style scoped>\n",
       "    .dataframe tbody tr th:only-of-type {\n",
       "        vertical-align: middle;\n",
       "    }\n",
       "\n",
       "    .dataframe tbody tr th {\n",
       "        vertical-align: top;\n",
       "    }\n",
       "\n",
       "    .dataframe thead th {\n",
       "        text-align: right;\n",
       "    }\n",
       "</style>\n",
       "<table border=\"1\" class=\"dataframe\">\n",
       "  <thead>\n",
       "    <tr style=\"text-align: right;\">\n",
       "      <th></th>\n",
       "      <th>VM1X</th>\n",
       "      <th>VM1Y</th>\n",
       "      <th>VM2X</th>\n",
       "      <th>VM2Y</th>\n",
       "    </tr>\n",
       "  </thead>\n",
       "  <tbody>\n",
       "    <tr>\n",
       "      <th>0</th>\n",
       "      <td>0.327765</td>\n",
       "      <td>0.990046</td>\n",
       "      <td>0.512616</td>\n",
       "      <td>0.869945</td>\n",
       "    </tr>\n",
       "    <tr>\n",
       "      <th>1</th>\n",
       "      <td>0.489130</td>\n",
       "      <td>0.715127</td>\n",
       "      <td>0.631856</td>\n",
       "      <td>0.730317</td>\n",
       "    </tr>\n",
       "    <tr>\n",
       "      <th>2</th>\n",
       "      <td>0.280111</td>\n",
       "      <td>0.278460</td>\n",
       "      <td>0.620405</td>\n",
       "      <td>0.062085</td>\n",
       "    </tr>\n",
       "    <tr>\n",
       "      <th>3</th>\n",
       "      <td>0.388253</td>\n",
       "      <td>0.657225</td>\n",
       "      <td>0.584089</td>\n",
       "      <td>0.567499</td>\n",
       "    </tr>\n",
       "    <tr>\n",
       "      <th>4</th>\n",
       "      <td>0.352624</td>\n",
       "      <td>0.600020</td>\n",
       "      <td>0.514005</td>\n",
       "      <td>0.813311</td>\n",
       "    </tr>\n",
       "    <tr>\n",
       "      <th>...</th>\n",
       "      <td>...</td>\n",
       "      <td>...</td>\n",
       "      <td>...</td>\n",
       "      <td>...</td>\n",
       "    </tr>\n",
       "    <tr>\n",
       "      <th>9995</th>\n",
       "      <td>0.264557</td>\n",
       "      <td>0.654612</td>\n",
       "      <td>0.767192</td>\n",
       "      <td>0.833291</td>\n",
       "    </tr>\n",
       "    <tr>\n",
       "      <th>9996</th>\n",
       "      <td>0.399197</td>\n",
       "      <td>0.679226</td>\n",
       "      <td>0.671999</td>\n",
       "      <td>0.963088</td>\n",
       "    </tr>\n",
       "    <tr>\n",
       "      <th>9997</th>\n",
       "      <td>0.379002</td>\n",
       "      <td>0.303266</td>\n",
       "      <td>0.727194</td>\n",
       "      <td>0.292766</td>\n",
       "    </tr>\n",
       "    <tr>\n",
       "      <th>9998</th>\n",
       "      <td>0.315393</td>\n",
       "      <td>0.972312</td>\n",
       "      <td>0.676101</td>\n",
       "      <td>0.812061</td>\n",
       "    </tr>\n",
       "    <tr>\n",
       "      <th>9999</th>\n",
       "      <td>0.299877</td>\n",
       "      <td>0.773144</td>\n",
       "      <td>0.748813</td>\n",
       "      <td>0.577689</td>\n",
       "    </tr>\n",
       "  </tbody>\n",
       "</table>\n",
       "<p>10000 rows × 4 columns</p>\n",
       "</div>"
      ],
      "text/plain": [
       "          VM1X      VM1Y      VM2X      VM2Y\n",
       "0     0.327765  0.990046  0.512616  0.869945\n",
       "1     0.489130  0.715127  0.631856  0.730317\n",
       "2     0.280111  0.278460  0.620405  0.062085\n",
       "3     0.388253  0.657225  0.584089  0.567499\n",
       "4     0.352624  0.600020  0.514005  0.813311\n",
       "...        ...       ...       ...       ...\n",
       "9995  0.264557  0.654612  0.767192  0.833291\n",
       "9996  0.399197  0.679226  0.671999  0.963088\n",
       "9997  0.379002  0.303266  0.727194  0.292766\n",
       "9998  0.315393  0.972312  0.676101  0.812061\n",
       "9999  0.299877  0.773144  0.748813  0.577689\n",
       "\n",
       "[10000 rows x 4 columns]"
      ]
     },
     "execution_count": 55,
     "metadata": {},
     "output_type": "execute_result"
    }
   ],
   "source": [
    "df1 = pd.DataFrame({'VIX': VIX, 'VIY': VIY,  'VGX': VGX, 'VGY': VGY ,'OIX': OIX, 'OIY': OIY})\n",
    "#ReplaceOIYByCol(df1)\n",
    "df2= pd.DataFrame({'VM1X': VM1X, 'VM1Y': VM1Y,'VM2X': VM2X, 'VM2Y': VM2Y})\n",
    "ReplaceVMYByCol(df1,df2)"
   ]
  },
  {
   "cell_type": "markdown",
   "metadata": {},
   "source": [
    "### Filter"
   ]
  },
  {
   "cell_type": "code",
   "execution_count": 21,
   "metadata": {},
   "outputs": [],
   "source": [
    "def FilterOutBadMove(df_inp,df_tar,th = 0.3):\n",
    "    \"\"\"\n",
    "        Filter out bad input and target (hit) within a given threshold and return clean dataframe\n",
    "        \n",
    "        input 1 : dataframe object. input dataframe.\n",
    "        input 2 : dataframe object. target dataframe.\n",
    "        input 3 : obstacle threshold. optional (0.3 by default) \n",
    "                \n",
    "        return 1: dataframe object. good input dataframe.\n",
    "        return 2: dataframe object. goo target dataframe.\n",
    "    \"\"\"\n",
    "    Arr_input = np.asarray(df_inp)\n",
    "    Arr_target = np.asarray(df_tar)\n",
    "    \n",
    "    good_inp = []\n",
    "    good_tar = []\n",
    "    for x in range (0, len(Arr_input)):\n",
    "        \n",
    "        Vmove = nt.Gen_MoveC2(Arr_input,Arr_target,x,parts=50)\n",
    "        Opos  = Arr_input[x,[4,5]]\n",
    "        \n",
    "        count = nt.StaticCheckBad(Vmove,Opos,th) # count is bad count. 1 for bad and 0 for good\n",
    "        \n",
    "        if(count==0):\n",
    "            good_inp.append(Arr_input[x])\n",
    "            good_tar.append(Arr_target[x])\n",
    "        \n",
    "    Arr_inp = np.array(good_inp)\n",
    "    Arr_tar = np.array(good_tar)  \n",
    "        \n",
    "    df1 = pd.DataFrame({'VIX': Arr_inp[:,0], 'VIY': Arr_inp[:,1],  'VGX': Arr_inp[:,2], 'VGY': Arr_inp[:,3] ,'OIX': Arr_inp[:,4], 'OIY': Arr_inp[:,5]})\n",
    "\n",
    "    df2= pd.DataFrame({'VM1X': Arr_tar[:,0], 'VM1Y': Arr_tar[:,1],'VM2X': Arr_tar[:,2], 'VM2Y': Arr_tar[:,3]})\n",
    "        \n",
    "    return df1,df2   \n",
    "    "
   ]
  },
  {
   "cell_type": "code",
   "execution_count": 56,
   "metadata": {},
   "outputs": [],
   "source": [
    "df1,df2 = FilterOutBadMove(df1,df2,th = 0.3)\n",
    "\n",
    "df1.to_csv('DataFiles/TestData_inp.csv', index=False)\n",
    "df2.to_csv('DataFiles/TestData_tar.csv', index=False)"
   ]
  },
  {
   "cell_type": "markdown",
   "metadata": {},
   "source": [
    "### Test Data"
   ]
  },
  {
   "cell_type": "code",
   "execution_count": 52,
   "metadata": {},
   "outputs": [],
   "source": [
    "df_good_inp = pd.read_csv('DataFiles/new_inp.csv')  # import data\n",
    "df_good_target = pd.read_csv('DataFiles/new_tar.csv')  # import data"
   ]
  },
  {
   "cell_type": "code",
   "execution_count": 53,
   "metadata": {},
   "outputs": [
    {
     "data": {
      "text/html": [
       "<div>\n",
       "<style scoped>\n",
       "    .dataframe tbody tr th:only-of-type {\n",
       "        vertical-align: middle;\n",
       "    }\n",
       "\n",
       "    .dataframe tbody tr th {\n",
       "        vertical-align: top;\n",
       "    }\n",
       "\n",
       "    .dataframe thead th {\n",
       "        text-align: right;\n",
       "    }\n",
       "</style>\n",
       "<table border=\"1\" class=\"dataframe\">\n",
       "  <thead>\n",
       "    <tr style=\"text-align: right;\">\n",
       "      <th></th>\n",
       "      <th>VIX</th>\n",
       "      <th>VIY</th>\n",
       "      <th>VGX</th>\n",
       "      <th>VGY</th>\n",
       "      <th>OIX</th>\n",
       "      <th>OIY</th>\n",
       "    </tr>\n",
       "  </thead>\n",
       "  <tbody>\n",
       "    <tr>\n",
       "      <th>0</th>\n",
       "      <td>0.057743</td>\n",
       "      <td>0.196207</td>\n",
       "      <td>0.869882</td>\n",
       "      <td>0.387223</td>\n",
       "      <td>0.585589</td>\n",
       "      <td>0.789823</td>\n",
       "    </tr>\n",
       "    <tr>\n",
       "      <th>1</th>\n",
       "      <td>0.194982</td>\n",
       "      <td>0.571793</td>\n",
       "      <td>0.926592</td>\n",
       "      <td>0.026629</td>\n",
       "      <td>0.351272</td>\n",
       "      <td>0.918768</td>\n",
       "    </tr>\n",
       "    <tr>\n",
       "      <th>2</th>\n",
       "      <td>0.042573</td>\n",
       "      <td>0.489061</td>\n",
       "      <td>0.975975</td>\n",
       "      <td>0.362659</td>\n",
       "      <td>0.703204</td>\n",
       "      <td>0.937709</td>\n",
       "    </tr>\n",
       "    <tr>\n",
       "      <th>3</th>\n",
       "      <td>0.031594</td>\n",
       "      <td>0.569446</td>\n",
       "      <td>0.964099</td>\n",
       "      <td>0.521561</td>\n",
       "      <td>0.301930</td>\n",
       "      <td>0.028893</td>\n",
       "    </tr>\n",
       "    <tr>\n",
       "      <th>4</th>\n",
       "      <td>0.060159</td>\n",
       "      <td>0.348169</td>\n",
       "      <td>0.911143</td>\n",
       "      <td>0.165828</td>\n",
       "      <td>0.515013</td>\n",
       "      <td>0.360811</td>\n",
       "    </tr>\n",
       "    <tr>\n",
       "      <th>...</th>\n",
       "      <td>...</td>\n",
       "      <td>...</td>\n",
       "      <td>...</td>\n",
       "      <td>...</td>\n",
       "      <td>...</td>\n",
       "      <td>...</td>\n",
       "    </tr>\n",
       "    <tr>\n",
       "      <th>5205</th>\n",
       "      <td>0.171423</td>\n",
       "      <td>0.214609</td>\n",
       "      <td>0.870144</td>\n",
       "      <td>0.864661</td>\n",
       "      <td>0.320877</td>\n",
       "      <td>0.686637</td>\n",
       "    </tr>\n",
       "    <tr>\n",
       "      <th>5206</th>\n",
       "      <td>0.050189</td>\n",
       "      <td>0.518511</td>\n",
       "      <td>0.938791</td>\n",
       "      <td>0.419680</td>\n",
       "      <td>0.281008</td>\n",
       "      <td>0.232940</td>\n",
       "    </tr>\n",
       "    <tr>\n",
       "      <th>5207</th>\n",
       "      <td>0.034152</td>\n",
       "      <td>0.435118</td>\n",
       "      <td>0.950606</td>\n",
       "      <td>0.573245</td>\n",
       "      <td>0.710231</td>\n",
       "      <td>0.125834</td>\n",
       "    </tr>\n",
       "    <tr>\n",
       "      <th>5208</th>\n",
       "      <td>0.091019</td>\n",
       "      <td>0.521082</td>\n",
       "      <td>0.887516</td>\n",
       "      <td>0.691639</td>\n",
       "      <td>0.651372</td>\n",
       "      <td>0.227077</td>\n",
       "    </tr>\n",
       "    <tr>\n",
       "      <th>5209</th>\n",
       "      <td>0.125662</td>\n",
       "      <td>0.657979</td>\n",
       "      <td>0.882791</td>\n",
       "      <td>0.957576</td>\n",
       "      <td>0.500171</td>\n",
       "      <td>0.277372</td>\n",
       "    </tr>\n",
       "  </tbody>\n",
       "</table>\n",
       "<p>5210 rows × 6 columns</p>\n",
       "</div>"
      ],
      "text/plain": [
       "           VIX       VIY       VGX       VGY       OIX       OIY\n",
       "0     0.057743  0.196207  0.869882  0.387223  0.585589  0.789823\n",
       "1     0.194982  0.571793  0.926592  0.026629  0.351272  0.918768\n",
       "2     0.042573  0.489061  0.975975  0.362659  0.703204  0.937709\n",
       "3     0.031594  0.569446  0.964099  0.521561  0.301930  0.028893\n",
       "4     0.060159  0.348169  0.911143  0.165828  0.515013  0.360811\n",
       "...        ...       ...       ...       ...       ...       ...\n",
       "5205  0.171423  0.214609  0.870144  0.864661  0.320877  0.686637\n",
       "5206  0.050189  0.518511  0.938791  0.419680  0.281008  0.232940\n",
       "5207  0.034152  0.435118  0.950606  0.573245  0.710231  0.125834\n",
       "5208  0.091019  0.521082  0.887516  0.691639  0.651372  0.227077\n",
       "5209  0.125662  0.657979  0.882791  0.957576  0.500171  0.277372\n",
       "\n",
       "[5210 rows x 6 columns]"
      ]
     },
     "execution_count": 53,
     "metadata": {},
     "output_type": "execute_result"
    }
   ],
   "source": [
    "df_good_inp"
   ]
  },
  {
   "cell_type": "code",
   "execution_count": 27,
   "metadata": {},
   "outputs": [
    {
     "data": {
      "text/html": [
       "<div>\n",
       "<style scoped>\n",
       "    .dataframe tbody tr th:only-of-type {\n",
       "        vertical-align: middle;\n",
       "    }\n",
       "\n",
       "    .dataframe tbody tr th {\n",
       "        vertical-align: top;\n",
       "    }\n",
       "\n",
       "    .dataframe thead th {\n",
       "        text-align: right;\n",
       "    }\n",
       "</style>\n",
       "<table border=\"1\" class=\"dataframe\">\n",
       "  <thead>\n",
       "    <tr style=\"text-align: right;\">\n",
       "      <th></th>\n",
       "      <th>VM1X</th>\n",
       "      <th>VM1Y</th>\n",
       "      <th>VM2X</th>\n",
       "      <th>VM2Y</th>\n",
       "    </tr>\n",
       "  </thead>\n",
       "  <tbody>\n",
       "    <tr>\n",
       "      <th>0</th>\n",
       "      <td>0.306001</td>\n",
       "      <td>0.001659</td>\n",
       "      <td>0.731614</td>\n",
       "      <td>0.335677</td>\n",
       "    </tr>\n",
       "    <tr>\n",
       "      <th>1</th>\n",
       "      <td>0.262706</td>\n",
       "      <td>0.056420</td>\n",
       "      <td>0.560415</td>\n",
       "      <td>0.418048</td>\n",
       "    </tr>\n",
       "    <tr>\n",
       "      <th>2</th>\n",
       "      <td>0.381519</td>\n",
       "      <td>0.640429</td>\n",
       "      <td>0.531481</td>\n",
       "      <td>0.711164</td>\n",
       "    </tr>\n",
       "    <tr>\n",
       "      <th>3</th>\n",
       "      <td>0.356666</td>\n",
       "      <td>0.652555</td>\n",
       "      <td>0.749022</td>\n",
       "      <td>0.807718</td>\n",
       "    </tr>\n",
       "    <tr>\n",
       "      <th>4</th>\n",
       "      <td>0.325398</td>\n",
       "      <td>0.318932</td>\n",
       "      <td>0.625528</td>\n",
       "      <td>0.272835</td>\n",
       "    </tr>\n",
       "  </tbody>\n",
       "</table>\n",
       "</div>"
      ],
      "text/plain": [
       "       VM1X      VM1Y      VM2X      VM2Y\n",
       "0  0.306001  0.001659  0.731614  0.335677\n",
       "1  0.262706  0.056420  0.560415  0.418048\n",
       "2  0.381519  0.640429  0.531481  0.711164\n",
       "3  0.356666  0.652555  0.749022  0.807718\n",
       "4  0.325398  0.318932  0.625528  0.272835"
      ]
     },
     "execution_count": 27,
     "metadata": {},
     "output_type": "execute_result"
    }
   ],
   "source": [
    "df_good_target.head()"
   ]
  },
  {
   "cell_type": "code",
   "execution_count": 28,
   "metadata": {},
   "outputs": [],
   "source": [
    "goodinp = np.asarray(df_good_inp) \n",
    "goodtar = np.asarray(df_good_target)"
   ]
  },
  {
   "cell_type": "code",
   "execution_count": 48,
   "metadata": {},
   "outputs": [
    {
     "name": "stdout",
     "output_type": "stream",
     "text": [
      "count: 0\n",
      "index: 69\n"
     ]
    },
    {
     "data": {
      "image/png": "[encoded data removed]",
      "text/plain": [
       "<Figure size 864x864 with 1 Axes>"
      ]
     },
     "metadata": {
      "needs_background": "light"
     },
     "output_type": "display_data"
    }
   ],
   "source": [
    "# test\n",
    "ind= np.random.randint(0,100)\n",
    "th = .3\n",
    "Vmove = nt.Gen_MoveC2(goodinp,goodtar,ind,parts=50)\n",
    "Opos  = goodinp[ind,[4,5]]\n",
    "nt.HitCheckPlot(Opos[0],Opos[1],th,Vmove) # O is starting, X is goal\n",
    "count = nt.StaticCheckBad(Vmove,Opos,th)\n",
    "print(\"count:\",count)\n",
    "print(\"index:\",ind)"
   ]
  },
  {
   "cell_type": "code",
   "execution_count": null,
   "metadata": {},
   "outputs": [],
   "source": []
  }
 ],
 "metadata": {
  "kernelspec": {
   "display_name": "Python 3",
   "language": "python",
   "name": "python3"
  },
  "language_info": {
   "codemirror_mode": {
    "name": "ipython",
    "version": 3
   },
   "file_extension": ".py",
   "mimetype": "text/x-python",
   "name": "python",
   "nbconvert_exporter": "python",
   "pygments_lexer": "ipython3",
   "version": "3.8.5"
  }
 },
 "nbformat": 4,
 "nbformat_minor": 4
}
