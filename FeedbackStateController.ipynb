{
 "cells": [
  {
   "cell_type": "code",
   "execution_count": 16,
   "metadata": {},
   "outputs": [],
   "source": [
    "import control as ct\n",
    "from matplotlib import pyplot as plt\n",
    "import numpy as np\n",
    "import sympy as sy\n",
    "import os\n",
    "from IPython.display import display, Math, Latex"
   ]
  },
  {
   "cell_type": "code",
   "execution_count": 17,
   "metadata": {},
   "outputs": [],
   "source": [
    "# Nonlinear update function\n",
    "def myvehicle_updt(t,x,u,params):\n",
    "    m = params.get('m',50)\n",
    "    j = params.get('j',12.5)\n",
    "    c = params.get('c',.8)\n",
    "\n",
    "    # state\n",
    "    x1= x[0]\n",
    "    x2= x[1]\n",
    "    x3= x[2]\n",
    "    x4= x[3]\n",
    "    x5= x[4]\n",
    "    x6= x[5]\n",
    "\n",
    "    # input\n",
    "    fx = u[0]\n",
    "    fy = u[1]\n",
    "    tz = u[2]\n",
    "\n",
    "\n",
    "\n",
    "    # dynamical equation\n",
    "    dx1 = x3\n",
    "    dx2 = x4\n",
    "    dx3 = (1/m)*fx*( np.cos(x5*(np.pi/180)) - np.sin(x5*(np.pi/180) )- c*x3 )\n",
    "    dx4 = (1/m)*fy*( np.sin(x5*(np.pi/180)) + np.cos(x5*(np.pi/180) )- c*x4 )\n",
    "    dx5 = x6\n",
    "    dx6 = (1/j)*(tz - c*x6)\n",
    "\n",
    "    return [dx1,dx2,dx3,dx4,dx5,dx6]\n",
    "\n",
    "# Output function\n",
    "def myvehicle_out(t, x, u, param):\n",
    "    '''\n",
    "    retrun Output y\n",
    "    '''\n",
    "    return x[0:6]"
   ]
  },
  {
   "cell_type": "code",
   "execution_count": 20,
   "metadata": {},
   "outputs": [
    {
     "data": {
      "text/latex": [
       "$\\displaystyle \\left[\\begin{matrix}-24434.1804773791\\\\96655.9470950632\\\\-5.54610704040597 \\cdot 10^{-29}\\\\-1.49109120163933 \\cdot 10^{-28}\\\\10060.5345363857\\\\3.68015461811092 \\cdot 10^{-42}\\end{matrix}\\right]$"
      ],
      "text/plain": [
       "Matrix([\n",
       "[    -24434.1804773791],\n",
       "[     96655.9470950632],\n",
       "[-5.54610704040597e-29],\n",
       "[-1.49109120163933e-28],\n",
       "[     10060.5345363857],\n",
       "[ 3.68015461811092e-42]])"
      ]
     },
     "execution_count": 20,
     "metadata": {},
     "output_type": "execute_result"
    }
   ],
   "source": [
    "# Generate the Non-linear system\n",
    "nonlin_myvehicle = ct.NonlinearIOSystem(myvehicle_updt, myvehicle_out, inputs=3, outputs=6, states=6 )\n",
    "\n",
    "# find equilibrium points\n",
    "u0 =np.array([0,0,0]) # no control\n",
    "x0 = np.array([1,2,.5,.1,50,.1])\n",
    "eqpt = ct.find_eqpt(nonlin_myvehicle,x0,u0)\n",
    "xeq=eqpt[0]\n",
    "sy.Matrix(xeq)"
   ]
  },
  {
   "cell_type": "code",
   "execution_count": 4,
   "metadata": {},
   "outputs": [],
   "source": [
    "# Linearize the model at eq. points\n",
    "lin_myvehicle = ct.linearize(nonlin_myvehicle,xeq,0)\n",
    "A=lin_myvehicle.A\n",
    "B=lin_myvehicle.B\n",
    "C=lin_myvehicle.C\n",
    "D=lin_myvehicle.D\n",
    "\n",
    "\n",
    "# Pole placement\n",
    "K = ct.place(A,B,[-2,-10,-8, -6, -9, -8.5])\n",
    "\n",
    "K3=K[:,2]\n",
    "K4=K[:,3]\n",
    "K6=K[:,5]\n",
    "\n",
    "K1=K[:,0]\n",
    "K2=K[:,1]\n",
    "K5=K[:,4]\n",
    "\n",
    "Knew = np.array([K3,K4,K6])\n",
    "Knew = np.transpose(Knew)\n",
    "\n",
    "Kpos = np.array([K1,K2,K5])\n",
    "Kpos = np.transpose(Kpos)\n",
    "\n",
    "KI = np.zeros([3,6])\n",
    "KI[:,2] = Knew[:,0]\n",
    "KI[:,3] = Knew[:,1]\n",
    "KI[:,5] = Knew[:,2]\n",
    "\n",
    "\n",
    "\n",
    "#Kmat = ct.LinearIOSystem(K,inputs=6,outputs=3)\n",
    "\n",
    "# Feedback loop\n",
    "feed_lin_vehicle = ct.feedback(lin_myvehicle,K,sign=-1)\n",
    "\n",
    "\n",
    "\n",
    "feed_nonlin_vehicle = ct.feedback(nonlin_myvehicle,K,sign=-1)"
   ]
  },
  {
   "cell_type": "code",
   "execution_count": 12,
   "metadata": {},
   "outputs": [],
   "source": [
    "# Simulation param\n",
    "#------------------\n",
    "# Timespan\n",
    "TT= np.linspace(0,100,100)\n",
    "# Input array\n",
    "inp = np.ones(TT.shape)\n",
    "\n",
    "R = np.array([inp*2,inp,inp])\n",
    "\n",
    "Rnew = Knew@R\n",
    "# Initial condition\n",
    "x0 = np.array([1,0,0,0,0,0])\n",
    "\n",
    "\n",
    "\n",
    "# Response\n",
    "t, y = ct.input_output_response(feed_nonlin_vehicle, TT, Kpos@R, x0)"
   ]
  },
  {
   "cell_type": "code",
   "execution_count": 15,
   "metadata": {},
   "outputs": [
    {
     "data": {
      "image/png": "[encoded data removed]",
      "text/plain": [
       "<Figure size 921.6x691.2 with 1 Axes>"
      ]
     },
     "metadata": {
      "needs_background": "light"
     },
     "output_type": "display_data"
    }
   ],
   "source": [
    "# Time VS X-vel\n",
    "plt.figure(7,figsize=[12.8,9.6])\n",
    "plt.title('Time VS X-pos', fontsize=20)\n",
    "plt.plot(t,y[0])\n",
    "plt.xlabel('Time',fontsize=20)\n",
    "plt.ylabel('X-vel', fontsize=20)\n",
    "plt.grid(True)"
   ]
  },
  {
   "cell_type": "code",
   "execution_count": null,
   "metadata": {},
   "outputs": [],
   "source": []
  }
 ],
 "metadata": {
  "kernelspec": {
   "display_name": "Python 3",
   "language": "python",
   "name": "python3"
  },
  "language_info": {
   "codemirror_mode": {
    "name": "ipython",
    "version": 3
   },
   "file_extension": ".py",
   "mimetype": "text/x-python",
   "name": "python",
   "nbconvert_exporter": "python",
   "pygments_lexer": "ipython3",
   "version": "3.8.5"
  }
 },
 "nbformat": 4,
 "nbformat_minor": 4
}
