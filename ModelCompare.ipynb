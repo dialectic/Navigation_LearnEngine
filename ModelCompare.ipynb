{
 "cells": [
  {
   "cell_type": "code",
   "execution_count": 4,
   "id": "665ebb50-efd5-40d6-8dd5-de4205b1133e",
   "metadata": {},
   "outputs": [],
   "source": [
    "import tensorflow as tf\n",
    "import keras\n",
    "import pandas as pd\n",
    "import numpy as np\n",
    "from tensorflow.keras.datasets import cifar10\n",
    "from tensorflow.keras.utils import to_categorical\n",
    "from tensorflow.keras.layers import Conv2D,MaxPooling2D,Dense, Dropout, Flatten, Conv1D\n",
    "from tensorflow.keras.optimizers import Adam\n",
    "from tensorflow.keras.models import Sequential\n",
    "import TFNNModels as NNM"
   ]
  },
  {
   "cell_type": "markdown",
   "id": "2cf72ec5-29ec-4514-9600-b8fa23603351",
   "metadata": {},
   "source": [
    "# Function Defs"
   ]
  },
  {
   "cell_type": "code",
   "execution_count": 7,
   "id": "618bc013-5492-4c9d-86e3-c59ba3834207",
   "metadata": {},
   "outputs": [],
   "source": [
    "import matplotlib.pyplot as plt\n",
    "def plot_history(history):\n",
    "  plt.figure()\n",
    "  plt.xlabel('Epoch')\n",
    "  plt.ylabel('Mean Abs Error [1000$]')\n",
    "  plt.plot(history.epoch, np.array(history.history['mae']), \n",
    "           label='Train')\n",
    "  plt.plot(history.epoch, np.array(history.history['val_mae']),\n",
    "           label = 'Val')\n",
    "  plt.legend()\n",
    "  plt.ylim([0, np.max(history.history['val_mae'])+ .30*np.max(history.history['val_mae'])])\n",
    "  \n",
    "def plot_prediction(test_labels, test_predictions):\n",
    "  plt.figure()\n",
    "  plt.scatter(test_labels, test_predictions)\n",
    "  plt.xlabel('True Values [1000$]')\n",
    "  plt.ylabel('Predictions [1000$]')\n",
    "  plt.axis('equal')\n",
    "  plt.xlim(plt.xlim())\n",
    "  plt.ylim(plt.ylim())\n",
    "  _ = plt.plot([-100, 100],[-100,100])\n",
    "\n",
    "  plt.figure()\n",
    "  error = test_predictions - test_labels\n",
    "  plt.hist(error, bins = 50)\n",
    "  plt.xlabel(\"Prediction Error [1000$]\")\n",
    "  _ = plt.ylabel(\"Count\")"
   ]
  },
  {
   "cell_type": "markdown",
   "id": "05d24515-5095-49e8-88f0-793f2eb9e274",
   "metadata": {},
   "source": [
    "# FF NeuralNet Model"
   ]
  },
  {
   "cell_type": "markdown",
   "id": "8807ad47-7468-4498-af32-61246864f9a1",
   "metadata": {},
   "source": [
    "### Load Models"
   ]
  },
  {
   "cell_type": "code",
   "execution_count": 5,
   "id": "fefdcd04-3bdd-46c3-9920-13c2069808c5",
   "metadata": {},
   "outputs": [],
   "source": [
    "learned_model1 = keras.models.load_model('Models\\FFmodel_vm1x')  # LOAD MODEL\n",
    "learned_model2 = keras.models.load_model('Models\\FFmodel_vm1y')  # LOAD MODEL\n",
    "learned_model3 = keras.models.load_model('Models\\FFmodel_vm2x')  # LOAD MODEL\n",
    "learned_model4 = keras.models.load_model('Models\\FFmodel_vm2y')  # LOAD MODEL"
   ]
  },
  {
   "cell_type": "code",
   "execution_count": null,
   "id": "3ec2ff29-bdf8-45e3-bdf2-647564da0e48",
   "metadata": {},
   "outputs": [],
   "source": []
  }
 ],
 "metadata": {
  "kernelspec": {
   "display_name": "Python 3 (ipykernel)",
   "language": "python",
   "name": "python3"
  },
  "language_info": {
   "codemirror_mode": {
    "name": "ipython",
    "version": 3
   },
   "file_extension": ".py",
   "mimetype": "text/x-python",
   "name": "python",
   "nbconvert_exporter": "python",
   "pygments_lexer": "ipython3",
   "version": "3.11.5"
  }
 },
 "nbformat": 4,
 "nbformat_minor": 5
}
