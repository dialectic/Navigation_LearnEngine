{
 "cells": [
  {
   "cell_type": "code",
   "execution_count": 20,
   "metadata": {},
   "outputs": [],
   "source": [
    "import tensorflow as tf\n",
    "import pandas as pd\n",
    "import numpy as np\n",
    "from tensorflow.keras.datasets import cifar10\n",
    "from tensorflow.keras.utils import to_categorical\n",
    "from tensorflow.keras.layers import Conv2D,MaxPooling2D,Dense, Dropout, Flatten, Conv1D\n",
    "from tensorflow.keras.optimizers import Adam\n",
    "from tensorflow.keras.models import Sequential\n",
    "import TFNNModels as NNM"
   ]
  },
  {
   "cell_type": "markdown",
   "metadata": {},
   "source": [
    "### Data Processing"
   ]
  },
  {
   "cell_type": "code",
   "execution_count": 2,
   "metadata": {},
   "outputs": [],
   "source": [
    "df_good_inp = pd.read_csv('DataFiles/goodinp_0.6.csv')  # import data\n",
    "df_good_target = pd.read_csv('DataFiles/goodtar_0.6.csv')  # import data"
   ]
  },
  {
   "cell_type": "code",
   "execution_count": 3,
   "metadata": {},
   "outputs": [
    {
     "data": {
      "text/html": [
       "<div>\n",
       "<style scoped>\n",
       "    .dataframe tbody tr th:only-of-type {\n",
       "        vertical-align: middle;\n",
       "    }\n",
       "\n",
       "    .dataframe tbody tr th {\n",
       "        vertical-align: top;\n",
       "    }\n",
       "\n",
       "    .dataframe thead th {\n",
       "        text-align: right;\n",
       "    }\n",
       "</style>\n",
       "<table border=\"1\" class=\"dataframe\">\n",
       "  <thead>\n",
       "    <tr style=\"text-align: right;\">\n",
       "      <th></th>\n",
       "      <th>VIX</th>\n",
       "      <th>VIY</th>\n",
       "      <th>VGX</th>\n",
       "      <th>VGY</th>\n",
       "      <th>OIX</th>\n",
       "      <th>OIY</th>\n",
       "    </tr>\n",
       "  </thead>\n",
       "  <tbody>\n",
       "    <tr>\n",
       "      <th>0</th>\n",
       "      <td>0.948718</td>\n",
       "      <td>0.953576</td>\n",
       "      <td>0.000000</td>\n",
       "      <td>0.471215</td>\n",
       "      <td>1.000000</td>\n",
       "      <td>0.000000</td>\n",
       "    </tr>\n",
       "    <tr>\n",
       "      <th>1</th>\n",
       "      <td>0.473333</td>\n",
       "      <td>0.000000</td>\n",
       "      <td>0.785714</td>\n",
       "      <td>0.752358</td>\n",
       "      <td>0.000000</td>\n",
       "      <td>0.838095</td>\n",
       "    </tr>\n",
       "    <tr>\n",
       "      <th>2</th>\n",
       "      <td>0.000000</td>\n",
       "      <td>0.497027</td>\n",
       "      <td>1.000000</td>\n",
       "      <td>0.707911</td>\n",
       "      <td>0.929785</td>\n",
       "      <td>0.107943</td>\n",
       "    </tr>\n",
       "    <tr>\n",
       "      <th>3</th>\n",
       "      <td>0.767296</td>\n",
       "      <td>0.237470</td>\n",
       "      <td>1.000000</td>\n",
       "      <td>1.000000</td>\n",
       "      <td>0.000000</td>\n",
       "      <td>0.368359</td>\n",
       "    </tr>\n",
       "    <tr>\n",
       "      <th>4</th>\n",
       "      <td>0.000000</td>\n",
       "      <td>0.904818</td>\n",
       "      <td>0.609756</td>\n",
       "      <td>0.540712</td>\n",
       "      <td>0.204265</td>\n",
       "      <td>0.000000</td>\n",
       "    </tr>\n",
       "  </tbody>\n",
       "</table>\n",
       "</div>"
      ],
      "text/plain": [
       "        VIX       VIY       VGX       VGY       OIX       OIY\n",
       "0  0.948718  0.953576  0.000000  0.471215  1.000000  0.000000\n",
       "1  0.473333  0.000000  0.785714  0.752358  0.000000  0.838095\n",
       "2  0.000000  0.497027  1.000000  0.707911  0.929785  0.107943\n",
       "3  0.767296  0.237470  1.000000  1.000000  0.000000  0.368359\n",
       "4  0.000000  0.904818  0.609756  0.540712  0.204265  0.000000"
      ]
     },
     "execution_count": 3,
     "metadata": {},
     "output_type": "execute_result"
    }
   ],
   "source": [
    "df_good_inp.head()"
   ]
  },
  {
   "cell_type": "code",
   "execution_count": 4,
   "metadata": {},
   "outputs": [
    {
     "data": {
      "text/html": [
       "<div>\n",
       "<style scoped>\n",
       "    .dataframe tbody tr th:only-of-type {\n",
       "        vertical-align: middle;\n",
       "    }\n",
       "\n",
       "    .dataframe tbody tr th {\n",
       "        vertical-align: top;\n",
       "    }\n",
       "\n",
       "    .dataframe thead th {\n",
       "        text-align: right;\n",
       "    }\n",
       "</style>\n",
       "<table border=\"1\" class=\"dataframe\">\n",
       "  <thead>\n",
       "    <tr style=\"text-align: right;\">\n",
       "      <th></th>\n",
       "      <th>VM1X</th>\n",
       "      <th>VM1Y</th>\n",
       "      <th>VM2X</th>\n",
       "      <th>VM2Y</th>\n",
       "    </tr>\n",
       "  </thead>\n",
       "  <tbody>\n",
       "    <tr>\n",
       "      <th>0</th>\n",
       "      <td>0.712500</td>\n",
       "      <td>0.913178</td>\n",
       "      <td>0.102703</td>\n",
       "      <td>1.000000</td>\n",
       "    </tr>\n",
       "    <tr>\n",
       "      <th>1</th>\n",
       "      <td>0.892045</td>\n",
       "      <td>0.331683</td>\n",
       "      <td>0.886792</td>\n",
       "      <td>0.219355</td>\n",
       "    </tr>\n",
       "    <tr>\n",
       "      <th>2</th>\n",
       "      <td>0.293706</td>\n",
       "      <td>0.517241</td>\n",
       "      <td>0.983240</td>\n",
       "      <td>0.855856</td>\n",
       "    </tr>\n",
       "    <tr>\n",
       "      <th>3</th>\n",
       "      <td>0.958763</td>\n",
       "      <td>0.204017</td>\n",
       "      <td>1.000000</td>\n",
       "      <td>0.997552</td>\n",
       "    </tr>\n",
       "    <tr>\n",
       "      <th>4</th>\n",
       "      <td>1.000000</td>\n",
       "      <td>0.644556</td>\n",
       "      <td>0.805714</td>\n",
       "      <td>0.344101</td>\n",
       "    </tr>\n",
       "  </tbody>\n",
       "</table>\n",
       "</div>"
      ],
      "text/plain": [
       "       VM1X      VM1Y      VM2X      VM2Y\n",
       "0  0.712500  0.913178  0.102703  1.000000\n",
       "1  0.892045  0.331683  0.886792  0.219355\n",
       "2  0.293706  0.517241  0.983240  0.855856\n",
       "3  0.958763  0.204017  1.000000  0.997552\n",
       "4  1.000000  0.644556  0.805714  0.344101"
      ]
     },
     "execution_count": 4,
     "metadata": {},
     "output_type": "execute_result"
    }
   ],
   "source": [
    "df_good_target .head()"
   ]
  },
  {
   "cell_type": "code",
   "execution_count": 5,
   "metadata": {},
   "outputs": [
    {
     "data": {
      "text/plain": [
       "(5001, 6)"
      ]
     },
     "execution_count": 5,
     "metadata": {},
     "output_type": "execute_result"
    }
   ],
   "source": [
    "df_good_inp.shape"
   ]
  },
  {
   "cell_type": "code",
   "execution_count": 6,
   "metadata": {},
   "outputs": [],
   "source": [
    "# Train and Test input\n",
    "splitX = round(.70*len(df_good_inp))\n",
    "max = len(df_good_inp)\n",
    "\n",
    "trainX = df_good_inp[0:splitX]\n",
    "testX = df_good_inp[splitX+1:max]\n"
   ]
  },
  {
   "cell_type": "code",
   "execution_count": 7,
   "metadata": {},
   "outputs": [],
   "source": [
    "# Train and Test target\n",
    "splitY = round(.70*len(df_good_target))\n",
    "max = len(df_good_target)\n",
    "\n",
    "trainY = df_good_target[0:splitY]\n",
    "testY = df_good_target[splitY+1:max]"
   ]
  },
  {
   "cell_type": "code",
   "execution_count": 8,
   "metadata": {},
   "outputs": [
    {
     "data": {
      "text/plain": [
       "(3501, 6)"
      ]
     },
     "execution_count": 8,
     "metadata": {},
     "output_type": "execute_result"
    }
   ],
   "source": [
    "trainX = np.asarray(trainX)\n",
    "trainX.shape"
   ]
  },
  {
   "cell_type": "code",
   "execution_count": 9,
   "metadata": {},
   "outputs": [
    {
     "data": {
      "text/plain": [
       "(1499, 6)"
      ]
     },
     "execution_count": 9,
     "metadata": {},
     "output_type": "execute_result"
    }
   ],
   "source": [
    "testX = np.asarray(testX)\n",
    "testX.shape"
   ]
  },
  {
   "cell_type": "code",
   "execution_count": 10,
   "metadata": {},
   "outputs": [],
   "source": [
    "sample_size = trainX.shape[0] # number of samples in train set\n",
    "time_steps  = trainX.shape[1] # number of features in train set\n",
    "input_dimension = 1               # each feature is represented by 1 number\n",
    "train_data_reshaped = trainX.reshape(sample_size,time_steps,input_dimension)"
   ]
  },
  {
   "cell_type": "code",
   "execution_count": 11,
   "metadata": {},
   "outputs": [],
   "source": [
    "test_data_reshaped = testX.reshape(testX.shape[0],testX.shape[1],1)"
   ]
  },
  {
   "cell_type": "code",
   "execution_count": 38,
   "metadata": {},
   "outputs": [],
   "source": [
    "# train target\n",
    "train_target1 = np.asarray(trainY['VM1X'])\n",
    "test_target1 = np.asarray(testY['VM1X'])"
   ]
  },
  {
   "cell_type": "code",
   "execution_count": 18,
   "metadata": {},
   "outputs": [],
   "source": [
    "#trainY = to_categorical(trainY)\n",
    "#testY = to_categorical(testY)"
   ]
  },
  {
   "cell_type": "code",
   "execution_count": 19,
   "metadata": {},
   "outputs": [],
   "source": [
    "kernel_size = 2\n",
    "n_timesteps = train_data_reshaped.shape[1] #13\n",
    "n_features  = train_data_reshaped.shape[2] #1 "
   ]
  },
  {
   "cell_type": "code",
   "execution_count": 15,
   "metadata": {},
   "outputs": [
    {
     "data": {
      "text/plain": [
       "(3501, 6, 1)"
      ]
     },
     "execution_count": 15,
     "metadata": {},
     "output_type": "execute_result"
    }
   ],
   "source": [
    "train_data_reshaped.shape"
   ]
  },
  {
   "cell_type": "code",
   "execution_count": 16,
   "metadata": {},
   "outputs": [
    {
     "data": {
      "text/plain": [
       "(3501,)"
      ]
     },
     "execution_count": 16,
     "metadata": {},
     "output_type": "execute_result"
    }
   ],
   "source": [
    "train_target1.shape"
   ]
  },
  {
   "cell_type": "markdown",
   "metadata": {},
   "source": [
    "### CNN Model"
   ]
  },
  {
   "cell_type": "code",
   "execution_count": 21,
   "metadata": {},
   "outputs": [
    {
     "name": "stdout",
     "output_type": "stream",
     "text": [
      "Created NN Model Instance\n"
     ]
    }
   ],
   "source": [
    "NNM = NNM.TFNNModels()\n",
    "model_conv1D_tar1 = NNM.build_conv1D_model(n_timesteps,n_features,kernel_size)"
   ]
  },
  {
   "cell_type": "code",
   "execution_count": 22,
   "metadata": {},
   "outputs": [
    {
     "name": "stdout",
     "output_type": "stream",
     "text": [
      "Model: \"model_conv1D\"\n",
      "_________________________________________________________________\n",
      " Layer (type)                Output Shape              Param #   \n",
      "=================================================================\n",
      " Conv1D_1 (Conv1D)           (None, 5, 64)             192       \n",
      "                                                                 \n",
      " dropout (Dropout)           (None, 5, 64)             0         \n",
      "                                                                 \n",
      " Conv1D_2 (Conv1D)           (None, 3, 32)             6176      \n",
      "                                                                 \n",
      " Conv1D_3 (Conv1D)           (None, 2, 16)             1040      \n",
      "                                                                 \n",
      " MaxPooling1D (MaxPooling1D)  (None, 1, 16)            0         \n",
      "                                                                 \n",
      " flatten (Flatten)           (None, 16)                0         \n",
      "                                                                 \n",
      " Dense_1 (Dense)             (None, 32)                544       \n",
      "                                                                 \n",
      " Dense_2 (Dense)             (None, 1)                 33        \n",
      "                                                                 \n",
      "=================================================================\n",
      "Total params: 7,985\n",
      "Trainable params: 7,985\n",
      "Non-trainable params: 0\n",
      "_________________________________________________________________\n"
     ]
    }
   ],
   "source": [
    "model_conv1D_tar1.summary()"
   ]
  },
  {
   "cell_type": "code",
   "execution_count": 49,
   "metadata": {},
   "outputs": [
    {
     "name": "stdout",
     "output_type": "stream",
     "text": [
      "Epoch 1/100\n",
      "88/88 [==============================] - 1s 6ms/step - loss: 0.0765 - mae: 0.2255 - val_loss: 0.1083 - val_mae: 0.2733\n",
      "Epoch 2/100\n",
      "88/88 [==============================] - 1s 6ms/step - loss: 0.0759 - mae: 0.2237 - val_loss: 0.1109 - val_mae: 0.2775\n",
      "Epoch 3/100\n",
      "88/88 [==============================] - 1s 7ms/step - loss: 0.0770 - mae: 0.2258 - val_loss: 0.1091 - val_mae: 0.2714\n",
      "Epoch 4/100\n",
      "88/88 [==============================] - 1s 6ms/step - loss: 0.0760 - mae: 0.2244 - val_loss: 0.1075 - val_mae: 0.2694\n",
      "Epoch 5/100\n",
      "88/88 [==============================] - 1s 6ms/step - loss: 0.0774 - mae: 0.2264 - val_loss: 0.1078 - val_mae: 0.2736\n",
      "Epoch 6/100\n",
      "88/88 [==============================] - 0s 5ms/step - loss: 0.0778 - mae: 0.2278 - val_loss: 0.1099 - val_mae: 0.2745\n",
      "Epoch 7/100\n",
      "88/88 [==============================] - 0s 5ms/step - loss: 0.0777 - mae: 0.2273 - val_loss: 0.1125 - val_mae: 0.2810\n",
      "Epoch 8/100\n",
      "88/88 [==============================] - 0s 5ms/step - loss: 0.0772 - mae: 0.2269 - val_loss: 0.1089 - val_mae: 0.2703\n",
      "Epoch 9/100\n",
      "88/88 [==============================] - 0s 6ms/step - loss: 0.0767 - mae: 0.2260 - val_loss: 0.1094 - val_mae: 0.2720\n",
      "Epoch 10/100\n",
      "88/88 [==============================] - 1s 6ms/step - loss: 0.0770 - mae: 0.2273 - val_loss: 0.1082 - val_mae: 0.2707\n",
      "Epoch 11/100\n",
      "88/88 [==============================] - 1s 6ms/step - loss: 0.0771 - mae: 0.2269 - val_loss: 0.1090 - val_mae: 0.2693\n",
      "Epoch 12/100\n",
      "88/88 [==============================] - 1s 7ms/step - loss: 0.0775 - mae: 0.2269 - val_loss: 0.1101 - val_mae: 0.2700\n",
      "Epoch 13/100\n",
      "88/88 [==============================] - 1s 7ms/step - loss: 0.0763 - mae: 0.2236 - val_loss: 0.1094 - val_mae: 0.2761\n",
      "Epoch 14/100\n",
      "88/88 [==============================] - 0s 6ms/step - loss: 0.0773 - mae: 0.2261 - val_loss: 0.1079 - val_mae: 0.2742\n",
      "Epoch 15/100\n",
      "88/88 [==============================] - 1s 6ms/step - loss: 0.0769 - mae: 0.2257 - val_loss: 0.1083 - val_mae: 0.2712\n",
      "Epoch 16/100\n",
      "88/88 [==============================] - 1s 6ms/step - loss: 0.0772 - mae: 0.2263 - val_loss: 0.1099 - val_mae: 0.2766\n",
      "Epoch 17/100\n",
      "88/88 [==============================] - 1s 6ms/step - loss: 0.0765 - mae: 0.2244 - val_loss: 0.1107 - val_mae: 0.2729\n",
      "Epoch 18/100\n",
      "88/88 [==============================] - 1s 7ms/step - loss: 0.0774 - mae: 0.2268 - val_loss: 0.1106 - val_mae: 0.2762\n",
      "Epoch 19/100\n",
      "88/88 [==============================] - 1s 7ms/step - loss: 0.0774 - mae: 0.2252 - val_loss: 0.1090 - val_mae: 0.2748\n",
      "Epoch 20/100\n",
      "88/88 [==============================] - 0s 5ms/step - loss: 0.0765 - mae: 0.2247 - val_loss: 0.1093 - val_mae: 0.2742\n",
      "Epoch 21/100\n",
      "88/88 [==============================] - 0s 5ms/step - loss: 0.0765 - mae: 0.2249 - val_loss: 0.1098 - val_mae: 0.2726\n",
      "Epoch 22/100\n",
      "88/88 [==============================] - 0s 5ms/step - loss: 0.0768 - mae: 0.2250 - val_loss: 0.1096 - val_mae: 0.2682\n",
      "Epoch 23/100\n",
      "88/88 [==============================] - 0s 6ms/step - loss: 0.0764 - mae: 0.2258 - val_loss: 0.1087 - val_mae: 0.2644\n",
      "Epoch 24/100\n",
      "88/88 [==============================] - 0s 5ms/step - loss: 0.0773 - mae: 0.2256 - val_loss: 0.1096 - val_mae: 0.2726\n",
      "Epoch 25/100\n",
      "88/88 [==============================] - 0s 5ms/step - loss: 0.0768 - mae: 0.2260 - val_loss: 0.1093 - val_mae: 0.2730\n",
      "Epoch 26/100\n",
      "88/88 [==============================] - 0s 5ms/step - loss: 0.0768 - mae: 0.2258 - val_loss: 0.1141 - val_mae: 0.2814\n",
      "Epoch 27/100\n",
      "88/88 [==============================] - 0s 5ms/step - loss: 0.0787 - mae: 0.2289 - val_loss: 0.1082 - val_mae: 0.2698\n",
      "Epoch 28/100\n",
      "88/88 [==============================] - 1s 6ms/step - loss: 0.0770 - mae: 0.2247 - val_loss: 0.1094 - val_mae: 0.2754\n",
      "Epoch 29/100\n",
      "88/88 [==============================] - 0s 6ms/step - loss: 0.0751 - mae: 0.2234 - val_loss: 0.1095 - val_mae: 0.2730\n",
      "Epoch 30/100\n",
      "88/88 [==============================] - 1s 6ms/step - loss: 0.0754 - mae: 0.2228 - val_loss: 0.1090 - val_mae: 0.2732\n",
      "Epoch 31/100\n",
      "88/88 [==============================] - 1s 6ms/step - loss: 0.0769 - mae: 0.2250 - val_loss: 0.1079 - val_mae: 0.2672\n",
      "Epoch 32/100\n",
      "88/88 [==============================] - 1s 7ms/step - loss: 0.0764 - mae: 0.2238 - val_loss: 0.1086 - val_mae: 0.2684\n",
      "Epoch 33/100\n",
      "88/88 [==============================] - 1s 7ms/step - loss: 0.0764 - mae: 0.2235 - val_loss: 0.1101 - val_mae: 0.2692\n",
      "Epoch 34/100\n",
      "88/88 [==============================] - 1s 7ms/step - loss: 0.0777 - mae: 0.2267 - val_loss: 0.1108 - val_mae: 0.2721\n",
      "Epoch 35/100\n",
      "88/88 [==============================] - 1s 6ms/step - loss: 0.0774 - mae: 0.2252 - val_loss: 0.1112 - val_mae: 0.2742\n",
      "Epoch 36/100\n",
      "88/88 [==============================] - 1s 6ms/step - loss: 0.0751 - mae: 0.2225 - val_loss: 0.1089 - val_mae: 0.2711\n",
      "Epoch 37/100\n",
      "88/88 [==============================] - 0s 5ms/step - loss: 0.0768 - mae: 0.2260 - val_loss: 0.1100 - val_mae: 0.2765\n",
      "Epoch 38/100\n",
      "88/88 [==============================] - 0s 5ms/step - loss: 0.0765 - mae: 0.2251 - val_loss: 0.1080 - val_mae: 0.2672\n",
      "Epoch 39/100\n",
      "88/88 [==============================] - 0s 5ms/step - loss: 0.0762 - mae: 0.2236 - val_loss: 0.1108 - val_mae: 0.2777\n",
      "Epoch 40/100\n",
      "88/88 [==============================] - 0s 5ms/step - loss: 0.0773 - mae: 0.2260 - val_loss: 0.1094 - val_mae: 0.2722\n",
      "Epoch 41/100\n",
      "88/88 [==============================] - 0s 5ms/step - loss: 0.0760 - mae: 0.2243 - val_loss: 0.1095 - val_mae: 0.2721\n",
      "Epoch 42/100\n",
      "88/88 [==============================] - 0s 6ms/step - loss: 0.0769 - mae: 0.2250 - val_loss: 0.1086 - val_mae: 0.2680\n",
      "Epoch 43/100\n",
      "88/88 [==============================] - 1s 6ms/step - loss: 0.0761 - mae: 0.2243 - val_loss: 0.1103 - val_mae: 0.2738\n",
      "Epoch 44/100\n",
      "88/88 [==============================] - 1s 6ms/step - loss: 0.0757 - mae: 0.2234 - val_loss: 0.1118 - val_mae: 0.2810\n",
      "Epoch 45/100\n",
      "88/88 [==============================] - 0s 6ms/step - loss: 0.0772 - mae: 0.2240 - val_loss: 0.1093 - val_mae: 0.2685\n",
      "Epoch 46/100\n",
      "88/88 [==============================] - 0s 5ms/step - loss: 0.0764 - mae: 0.2231 - val_loss: 0.1108 - val_mae: 0.2705\n",
      "Epoch 47/100\n",
      "88/88 [==============================] - 0s 5ms/step - loss: 0.0762 - mae: 0.2244 - val_loss: 0.1105 - val_mae: 0.2773\n",
      "Epoch 48/100\n",
      "88/88 [==============================] - 0s 5ms/step - loss: 0.0758 - mae: 0.2241 - val_loss: 0.1093 - val_mae: 0.2744\n",
      "Epoch 49/100\n",
      "88/88 [==============================] - 1s 6ms/step - loss: 0.0755 - mae: 0.2226 - val_loss: 0.1074 - val_mae: 0.2637\n",
      "Epoch 50/100\n",
      "88/88 [==============================] - 0s 5ms/step - loss: 0.0761 - mae: 0.2244 - val_loss: 0.1115 - val_mae: 0.2737\n",
      "Epoch 51/100\n",
      "88/88 [==============================] - 0s 5ms/step - loss: 0.0778 - mae: 0.2263 - val_loss: 0.1107 - val_mae: 0.2766\n",
      "Epoch 52/100\n",
      "88/88 [==============================] - 0s 5ms/step - loss: 0.0769 - mae: 0.2260 - val_loss: 0.1093 - val_mae: 0.2717\n",
      "Epoch 53/100\n",
      "88/88 [==============================] - 1s 6ms/step - loss: 0.0765 - mae: 0.2255 - val_loss: 0.1100 - val_mae: 0.2744\n",
      "Epoch 54/100\n",
      "88/88 [==============================] - 1s 7ms/step - loss: 0.0766 - mae: 0.2251 - val_loss: 0.1121 - val_mae: 0.2728\n",
      "Epoch 55/100\n",
      "88/88 [==============================] - 1s 6ms/step - loss: 0.0772 - mae: 0.2254 - val_loss: 0.1115 - val_mae: 0.2790\n",
      "Epoch 56/100\n",
      "88/88 [==============================] - 1s 7ms/step - loss: 0.0753 - mae: 0.2237 - val_loss: 0.1102 - val_mae: 0.2720\n",
      "Epoch 57/100\n",
      "88/88 [==============================] - 0s 5ms/step - loss: 0.0761 - mae: 0.2245 - val_loss: 0.1131 - val_mae: 0.2781\n",
      "Epoch 58/100\n",
      "88/88 [==============================] - 0s 4ms/step - loss: 0.0770 - mae: 0.2244 - val_loss: 0.1097 - val_mae: 0.2678\n",
      "Epoch 59/100\n",
      "88/88 [==============================] - 0s 5ms/step - loss: 0.0764 - mae: 0.2236 - val_loss: 0.1083 - val_mae: 0.2711\n",
      "Epoch 60/100\n",
      "88/88 [==============================] - 0s 5ms/step - loss: 0.0768 - mae: 0.2245 - val_loss: 0.1089 - val_mae: 0.2715\n",
      "Epoch 61/100\n",
      "88/88 [==============================] - 0s 5ms/step - loss: 0.0760 - mae: 0.2223 - val_loss: 0.1082 - val_mae: 0.2723\n",
      "Epoch 62/100\n",
      "88/88 [==============================] - 0s 5ms/step - loss: 0.0752 - mae: 0.2218 - val_loss: 0.1077 - val_mae: 0.2709\n",
      "Epoch 63/100\n",
      "88/88 [==============================] - 0s 6ms/step - loss: 0.0764 - mae: 0.2243 - val_loss: 0.1082 - val_mae: 0.2702\n",
      "Epoch 64/100\n",
      "88/88 [==============================] - 0s 5ms/step - loss: 0.0755 - mae: 0.2226 - val_loss: 0.1085 - val_mae: 0.2725\n",
      "Epoch 65/100\n",
      "88/88 [==============================] - 1s 6ms/step - loss: 0.0750 - mae: 0.2216 - val_loss: 0.1108 - val_mae: 0.2724\n",
      "Epoch 66/100\n",
      "88/88 [==============================] - 0s 5ms/step - loss: 0.0755 - mae: 0.2227 - val_loss: 0.1093 - val_mae: 0.2720\n",
      "Epoch 67/100\n",
      "88/88 [==============================] - 0s 5ms/step - loss: 0.0784 - mae: 0.2274 - val_loss: 0.1078 - val_mae: 0.2688\n",
      "Epoch 68/100\n",
      "88/88 [==============================] - 0s 6ms/step - loss: 0.0761 - mae: 0.2242 - val_loss: 0.1095 - val_mae: 0.2720\n",
      "Epoch 69/100\n",
      "88/88 [==============================] - 1s 6ms/step - loss: 0.0765 - mae: 0.2254 - val_loss: 0.1086 - val_mae: 0.2716\n",
      "Epoch 70/100\n",
      "88/88 [==============================] - 0s 5ms/step - loss: 0.0755 - mae: 0.2234 - val_loss: 0.1092 - val_mae: 0.2735\n",
      "Epoch 71/100\n",
      "88/88 [==============================] - 0s 5ms/step - loss: 0.0747 - mae: 0.2229 - val_loss: 0.1090 - val_mae: 0.2712\n",
      "Epoch 72/100\n",
      "88/88 [==============================] - 0s 5ms/step - loss: 0.0767 - mae: 0.2259 - val_loss: 0.1097 - val_mae: 0.2716\n",
      "Epoch 73/100\n",
      "88/88 [==============================] - 0s 5ms/step - loss: 0.0757 - mae: 0.2235 - val_loss: 0.1094 - val_mae: 0.2693\n",
      "Epoch 74/100\n",
      "88/88 [==============================] - 0s 5ms/step - loss: 0.0755 - mae: 0.2231 - val_loss: 0.1122 - val_mae: 0.2758\n",
      "Epoch 75/100\n",
      "88/88 [==============================] - 0s 5ms/step - loss: 0.0756 - mae: 0.2231 - val_loss: 0.1097 - val_mae: 0.2679\n",
      "Epoch 76/100\n",
      "88/88 [==============================] - 0s 5ms/step - loss: 0.0753 - mae: 0.2224 - val_loss: 0.1101 - val_mae: 0.2745\n",
      "Epoch 77/100\n",
      "88/88 [==============================] - 0s 5ms/step - loss: 0.0756 - mae: 0.2235 - val_loss: 0.1102 - val_mae: 0.2742\n",
      "Epoch 78/100\n",
      "88/88 [==============================] - 1s 6ms/step - loss: 0.0754 - mae: 0.2220 - val_loss: 0.1099 - val_mae: 0.2702\n",
      "Epoch 79/100\n",
      "88/88 [==============================] - 0s 5ms/step - loss: 0.0767 - mae: 0.2250 - val_loss: 0.1150 - val_mae: 0.2847\n",
      "Epoch 80/100\n",
      "88/88 [==============================] - 0s 5ms/step - loss: 0.0763 - mae: 0.2252 - val_loss: 0.1108 - val_mae: 0.2721\n",
      "Epoch 81/100\n",
      "88/88 [==============================] - 0s 5ms/step - loss: 0.0747 - mae: 0.2219 - val_loss: 0.1095 - val_mae: 0.2727\n",
      "Epoch 82/100\n",
      "88/88 [==============================] - 0s 5ms/step - loss: 0.0763 - mae: 0.2234 - val_loss: 0.1102 - val_mae: 0.2733\n",
      "Epoch 83/100\n",
      "88/88 [==============================] - 0s 5ms/step - loss: 0.0748 - mae: 0.2215 - val_loss: 0.1105 - val_mae: 0.2726\n",
      "Epoch 84/100\n",
      "88/88 [==============================] - 1s 6ms/step - loss: 0.0756 - mae: 0.2230 - val_loss: 0.1112 - val_mae: 0.2754\n",
      "Epoch 85/100\n",
      "88/88 [==============================] - 0s 5ms/step - loss: 0.0753 - mae: 0.2225 - val_loss: 0.1094 - val_mae: 0.2702\n",
      "Epoch 86/100\n",
      "88/88 [==============================] - 0s 5ms/step - loss: 0.0751 - mae: 0.2216 - val_loss: 0.1115 - val_mae: 0.2739\n",
      "Epoch 87/100\n",
      "88/88 [==============================] - 0s 5ms/step - loss: 0.0754 - mae: 0.2223 - val_loss: 0.1123 - val_mae: 0.2744\n",
      "Epoch 88/100\n",
      "88/88 [==============================] - 0s 6ms/step - loss: 0.0769 - mae: 0.2251 - val_loss: 0.1109 - val_mae: 0.2677\n",
      "Epoch 89/100\n",
      "88/88 [==============================] - 0s 5ms/step - loss: 0.0745 - mae: 0.2212 - val_loss: 0.1093 - val_mae: 0.2724\n",
      "Epoch 90/100\n",
      "88/88 [==============================] - 1s 6ms/step - loss: 0.0757 - mae: 0.2234 - val_loss: 0.1098 - val_mae: 0.2723\n",
      "Epoch 91/100\n",
      "88/88 [==============================] - 0s 5ms/step - loss: 0.0761 - mae: 0.2244 - val_loss: 0.1104 - val_mae: 0.2698\n",
      "Epoch 92/100\n",
      "88/88 [==============================] - 0s 5ms/step - loss: 0.0769 - mae: 0.2247 - val_loss: 0.1105 - val_mae: 0.2678\n",
      "Epoch 93/100\n",
      "88/88 [==============================] - 0s 5ms/step - loss: 0.0739 - mae: 0.2195 - val_loss: 0.1113 - val_mae: 0.2756\n",
      "Epoch 94/100\n",
      "88/88 [==============================] - 1s 6ms/step - loss: 0.0752 - mae: 0.2228 - val_loss: 0.1104 - val_mae: 0.2684\n",
      "Epoch 95/100\n",
      "88/88 [==============================] - 0s 5ms/step - loss: 0.0762 - mae: 0.2241 - val_loss: 0.1114 - val_mae: 0.2743\n",
      "Epoch 96/100\n",
      "88/88 [==============================] - 0s 6ms/step - loss: 0.0761 - mae: 0.2242 - val_loss: 0.1117 - val_mae: 0.2761\n",
      "Epoch 97/100\n",
      "88/88 [==============================] - 1s 6ms/step - loss: 0.0756 - mae: 0.2229 - val_loss: 0.1094 - val_mae: 0.2716\n",
      "Epoch 98/100\n",
      "88/88 [==============================] - 1s 6ms/step - loss: 0.0755 - mae: 0.2238 - val_loss: 0.1117 - val_mae: 0.2759\n",
      "Epoch 99/100\n",
      "88/88 [==============================] - 1s 6ms/step - loss: 0.0767 - mae: 0.2240 - val_loss: 0.1114 - val_mae: 0.2734\n",
      "Epoch 100/100\n",
      "88/88 [==============================] - 1s 6ms/step - loss: 0.0754 - mae: 0.2231 - val_loss: 0.1102 - val_mae: 0.2712\n"
     ]
    }
   ],
   "source": [
    "# Store training stats\n",
    "history = model_conv1D_tar1.fit(train_data_reshaped, train_target1, epochs=100,\n",
    "                    validation_split=0.2, verbose=1)"
   ]
  },
  {
   "cell_type": "code",
   "execution_count": 44,
   "metadata": {},
   "outputs": [
    {
     "name": "stdout",
     "output_type": "stream",
     "text": [
      "47/47 [==============================] - 0s 3ms/step\n"
     ]
    }
   ],
   "source": [
    "test_predictions=model_conv1D_tar1.predict(test_data_reshaped)"
   ]
  },
  {
   "cell_type": "code",
   "execution_count": 41,
   "metadata": {},
   "outputs": [
    {
     "data": {
      "text/plain": [
       "(1499, 1)"
      ]
     },
     "execution_count": 41,
     "metadata": {},
     "output_type": "execute_result"
    }
   ],
   "source": [
    "test_predictions.shape"
   ]
  },
  {
   "cell_type": "code",
   "execution_count": 35,
   "metadata": {},
   "outputs": [],
   "source": [
    "import matplotlib.pyplot as plt\n",
    "def plot_history(history):\n",
    "  plt.figure()\n",
    "  plt.xlabel('Epoch')\n",
    "  plt.ylabel('Mean Abs Error [1000$]')\n",
    "  plt.plot(history.epoch, np.array(history.history['mae']), \n",
    "           label='Train')\n",
    "  plt.plot(history.epoch, np.array(history.history['val_mae']),\n",
    "           label = 'Val')\n",
    "  plt.legend()\n",
    "  plt.ylim([0, np.max(history.history['val_mae'])+ .30*np.max(history.history['val_mae'])])\n",
    "  \n",
    "def plot_prediction(test_labels, test_predictions):\n",
    "  plt.figure()\n",
    "  plt.scatter(test_labels, test_predictions)\n",
    "  plt.xlabel('True Values [1000$]')\n",
    "  plt.ylabel('Predictions [1000$]')\n",
    "  plt.axis('equal')\n",
    "  plt.xlim(plt.xlim())\n",
    "  plt.ylim(plt.ylim())\n",
    "  _ = plt.plot([-100, 100],[-100,100])\n",
    "\n",
    "  plt.figure()\n",
    "  error = test_predictions - test_labels\n",
    "  plt.hist(error, bins = 50)\n",
    "  plt.xlabel(\"Prediction Error [1000$]\")\n",
    "  _ = plt.ylabel(\"Count\")"
   ]
  },
  {
   "cell_type": "code",
   "execution_count": 50,
   "metadata": {},
   "outputs": [
    {
     "data": {
      "image/png": "[encoded data removed]",
      "text/plain": [
       "<Figure size 432x288 with 1 Axes>"
      ]
     },
     "metadata": {
      "needs_background": "light"
     },
     "output_type": "display_data"
    }
   ],
   "source": [
    "plot_history(history)"
   ]
  },
  {
   "cell_type": "markdown",
   "metadata": {},
   "source": [
    "#### PLOTS"
   ]
  },
  {
   "cell_type": "code",
   "execution_count": 51,
   "metadata": {},
   "outputs": [
    {
     "data": {
      "image/png": "[encoded data removed]",
      "text/plain": [
       "<Figure size 432x288 with 1 Axes>"
      ]
     },
     "metadata": {
      "needs_background": "light"
     },
     "output_type": "display_data"
    },
    {
     "data": {
      "image/png": "[encoded data removed]",
      "text/plain": [
       "<Figure size 432x288 with 1 Axes>"
      ]
     },
     "metadata": {
      "needs_background": "light"
     },
     "output_type": "display_data"
    }
   ],
   "source": [
    "plot_prediction(test_target1,test_predictions)"
   ]
  },
  {
   "cell_type": "code",
   "execution_count": null,
   "metadata": {},
   "outputs": [],
   "source": []
  }
 ],
 "metadata": {
  "kernelspec": {
   "display_name": "Python 3",
   "language": "python",
   "name": "python3"
  },
  "language_info": {
   "codemirror_mode": {
    "name": "ipython",
    "version": 3
   },
   "file_extension": ".py",
   "mimetype": "text/x-python",
   "name": "python",
   "nbconvert_exporter": "python",
   "pygments_lexer": "ipython3",
   "version": "3.8.5"
  }
 },
 "nbformat": 4,
 "nbformat_minor": 4
}
