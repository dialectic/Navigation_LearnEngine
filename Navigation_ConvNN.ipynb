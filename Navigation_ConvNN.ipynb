{
 "cells": [
  {
   "cell_type": "code",
   "execution_count": 1,
   "metadata": {},
   "outputs": [
    {
     "name": "stderr",
     "output_type": "stream",
     "text": [
      "C:\\Users\\ai598\\Anaconda3\\lib\\site-packages\\pandas\\core\\computation\\expressions.py:20: UserWarning: Pandas requires version '2.7.3' or newer of 'numexpr' (version '2.7.1' currently installed).\n",
      "  from pandas.core.computation.check import NUMEXPR_INSTALLED\n"
     ]
    }
   ],
   "source": [
    "import tensorflow as tf\n",
    "import pandas as pd\n",
    "import numpy as np\n",
    "from tensorflow.keras.datasets import cifar10\n",
    "from tensorflow.keras.utils import to_categorical\n",
    "from tensorflow.keras.layers import Conv2D,MaxPooling2D,Dense, Dropout, Flatten, Conv1D\n",
    "from tensorflow.keras.optimizers import Adam\n",
    "from tensorflow.keras.models import Sequential\n",
    "import TFNNModels as NNM"
   ]
  },
  {
   "cell_type": "markdown",
   "metadata": {},
   "source": [
    "### Data Processing"
   ]
  },
  {
   "cell_type": "code",
   "execution_count": 4,
   "metadata": {},
   "outputs": [],
   "source": [
    "df_good_inp = pd.read_csv('DataFiles/new_inp.csv')  # import data\n",
    "df_good_target = pd.read_csv('DataFiles/new_tar.csv')  # import data"
   ]
  },
  {
   "cell_type": "code",
   "execution_count": 5,
   "metadata": {},
   "outputs": [
    {
     "data": {
      "text/html": [
       "<div>\n",
       "<style scoped>\n",
       "    .dataframe tbody tr th:only-of-type {\n",
       "        vertical-align: middle;\n",
       "    }\n",
       "\n",
       "    .dataframe tbody tr th {\n",
       "        vertical-align: top;\n",
       "    }\n",
       "\n",
       "    .dataframe thead th {\n",
       "        text-align: right;\n",
       "    }\n",
       "</style>\n",
       "<table border=\"1\" class=\"dataframe\">\n",
       "  <thead>\n",
       "    <tr style=\"text-align: right;\">\n",
       "      <th></th>\n",
       "      <th>VIX</th>\n",
       "      <th>VIY</th>\n",
       "      <th>VGX</th>\n",
       "      <th>VGY</th>\n",
       "      <th>OIX</th>\n",
       "      <th>OIY</th>\n",
       "    </tr>\n",
       "  </thead>\n",
       "  <tbody>\n",
       "    <tr>\n",
       "      <th>0</th>\n",
       "      <td>0.057743</td>\n",
       "      <td>0.196207</td>\n",
       "      <td>0.869882</td>\n",
       "      <td>0.387223</td>\n",
       "      <td>0.585589</td>\n",
       "      <td>0.789823</td>\n",
       "    </tr>\n",
       "    <tr>\n",
       "      <th>1</th>\n",
       "      <td>0.194982</td>\n",
       "      <td>0.571793</td>\n",
       "      <td>0.926592</td>\n",
       "      <td>0.026629</td>\n",
       "      <td>0.351272</td>\n",
       "      <td>0.918768</td>\n",
       "    </tr>\n",
       "    <tr>\n",
       "      <th>2</th>\n",
       "      <td>0.042573</td>\n",
       "      <td>0.489061</td>\n",
       "      <td>0.975975</td>\n",
       "      <td>0.362659</td>\n",
       "      <td>0.703204</td>\n",
       "      <td>0.937709</td>\n",
       "    </tr>\n",
       "    <tr>\n",
       "      <th>3</th>\n",
       "      <td>0.031594</td>\n",
       "      <td>0.569446</td>\n",
       "      <td>0.964099</td>\n",
       "      <td>0.521561</td>\n",
       "      <td>0.301930</td>\n",
       "      <td>0.028893</td>\n",
       "    </tr>\n",
       "    <tr>\n",
       "      <th>4</th>\n",
       "      <td>0.060159</td>\n",
       "      <td>0.348169</td>\n",
       "      <td>0.911143</td>\n",
       "      <td>0.165828</td>\n",
       "      <td>0.515013</td>\n",
       "      <td>0.360811</td>\n",
       "    </tr>\n",
       "    <tr>\n",
       "      <th>...</th>\n",
       "      <td>...</td>\n",
       "      <td>...</td>\n",
       "      <td>...</td>\n",
       "      <td>...</td>\n",
       "      <td>...</td>\n",
       "      <td>...</td>\n",
       "    </tr>\n",
       "    <tr>\n",
       "      <th>5205</th>\n",
       "      <td>0.171423</td>\n",
       "      <td>0.214609</td>\n",
       "      <td>0.870144</td>\n",
       "      <td>0.864661</td>\n",
       "      <td>0.320877</td>\n",
       "      <td>0.686637</td>\n",
       "    </tr>\n",
       "    <tr>\n",
       "      <th>5206</th>\n",
       "      <td>0.050189</td>\n",
       "      <td>0.518511</td>\n",
       "      <td>0.938791</td>\n",
       "      <td>0.419680</td>\n",
       "      <td>0.281008</td>\n",
       "      <td>0.232940</td>\n",
       "    </tr>\n",
       "    <tr>\n",
       "      <th>5207</th>\n",
       "      <td>0.034152</td>\n",
       "      <td>0.435118</td>\n",
       "      <td>0.950606</td>\n",
       "      <td>0.573245</td>\n",
       "      <td>0.710231</td>\n",
       "      <td>0.125834</td>\n",
       "    </tr>\n",
       "    <tr>\n",
       "      <th>5208</th>\n",
       "      <td>0.091019</td>\n",
       "      <td>0.521082</td>\n",
       "      <td>0.887516</td>\n",
       "      <td>0.691639</td>\n",
       "      <td>0.651372</td>\n",
       "      <td>0.227077</td>\n",
       "    </tr>\n",
       "    <tr>\n",
       "      <th>5209</th>\n",
       "      <td>0.125662</td>\n",
       "      <td>0.657979</td>\n",
       "      <td>0.882791</td>\n",
       "      <td>0.957576</td>\n",
       "      <td>0.500171</td>\n",
       "      <td>0.277372</td>\n",
       "    </tr>\n",
       "  </tbody>\n",
       "</table>\n",
       "<p>5210 rows × 6 columns</p>\n",
       "</div>"
      ],
      "text/plain": [
       "           VIX       VIY       VGX       VGY       OIX       OIY\n",
       "0     0.057743  0.196207  0.869882  0.387223  0.585589  0.789823\n",
       "1     0.194982  0.571793  0.926592  0.026629  0.351272  0.918768\n",
       "2     0.042573  0.489061  0.975975  0.362659  0.703204  0.937709\n",
       "3     0.031594  0.569446  0.964099  0.521561  0.301930  0.028893\n",
       "4     0.060159  0.348169  0.911143  0.165828  0.515013  0.360811\n",
       "...        ...       ...       ...       ...       ...       ...\n",
       "5205  0.171423  0.214609  0.870144  0.864661  0.320877  0.686637\n",
       "5206  0.050189  0.518511  0.938791  0.419680  0.281008  0.232940\n",
       "5207  0.034152  0.435118  0.950606  0.573245  0.710231  0.125834\n",
       "5208  0.091019  0.521082  0.887516  0.691639  0.651372  0.227077\n",
       "5209  0.125662  0.657979  0.882791  0.957576  0.500171  0.277372\n",
       "\n",
       "[5210 rows x 6 columns]"
      ]
     },
     "execution_count": 5,
     "metadata": {},
     "output_type": "execute_result"
    }
   ],
   "source": [
    "df_good_inp"
   ]
  },
  {
   "cell_type": "code",
   "execution_count": 5,
   "metadata": {},
   "outputs": [
    {
     "data": {
      "text/html": [
       "<div>\n",
       "<style scoped>\n",
       "    .dataframe tbody tr th:only-of-type {\n",
       "        vertical-align: middle;\n",
       "    }\n",
       "\n",
       "    .dataframe tbody tr th {\n",
       "        vertical-align: top;\n",
       "    }\n",
       "\n",
       "    .dataframe thead th {\n",
       "        text-align: right;\n",
       "    }\n",
       "</style>\n",
       "<table border=\"1\" class=\"dataframe\">\n",
       "  <thead>\n",
       "    <tr style=\"text-align: right;\">\n",
       "      <th></th>\n",
       "      <th>VM1X</th>\n",
       "      <th>VM1Y</th>\n",
       "      <th>VM2X</th>\n",
       "      <th>VM2Y</th>\n",
       "    </tr>\n",
       "  </thead>\n",
       "  <tbody>\n",
       "    <tr>\n",
       "      <th>0</th>\n",
       "      <td>0.380186</td>\n",
       "      <td>0.0</td>\n",
       "      <td>0.560443</td>\n",
       "      <td>0.0</td>\n",
       "    </tr>\n",
       "    <tr>\n",
       "      <th>1</th>\n",
       "      <td>0.276809</td>\n",
       "      <td>1.0</td>\n",
       "      <td>0.527797</td>\n",
       "      <td>1.0</td>\n",
       "    </tr>\n",
       "    <tr>\n",
       "      <th>2</th>\n",
       "      <td>0.236359</td>\n",
       "      <td>1.0</td>\n",
       "      <td>0.574387</td>\n",
       "      <td>1.0</td>\n",
       "    </tr>\n",
       "    <tr>\n",
       "      <th>3</th>\n",
       "      <td>0.294370</td>\n",
       "      <td>1.0</td>\n",
       "      <td>0.656425</td>\n",
       "      <td>1.0</td>\n",
       "    </tr>\n",
       "    <tr>\n",
       "      <th>4</th>\n",
       "      <td>0.440719</td>\n",
       "      <td>1.0</td>\n",
       "      <td>0.666769</td>\n",
       "      <td>1.0</td>\n",
       "    </tr>\n",
       "  </tbody>\n",
       "</table>\n",
       "</div>"
      ],
      "text/plain": [
       "       VM1X  VM1Y      VM2X  VM2Y\n",
       "0  0.380186   0.0  0.560443   0.0\n",
       "1  0.276809   1.0  0.527797   1.0\n",
       "2  0.236359   1.0  0.574387   1.0\n",
       "3  0.294370   1.0  0.656425   1.0\n",
       "4  0.440719   1.0  0.666769   1.0"
      ]
     },
     "execution_count": 5,
     "metadata": {},
     "output_type": "execute_result"
    }
   ],
   "source": [
    "df_good_target.head()"
   ]
  },
  {
   "cell_type": "code",
   "execution_count": 6,
   "metadata": {},
   "outputs": [
    {
     "data": {
      "text/plain": [
       "(5210, 6)"
      ]
     },
     "execution_count": 6,
     "metadata": {},
     "output_type": "execute_result"
    }
   ],
   "source": [
    "df_good_inp.shape"
   ]
  },
  {
   "cell_type": "code",
   "execution_count": 7,
   "metadata": {},
   "outputs": [],
   "source": [
    "# Train and Test input\n",
    "splitX = round(.70*len(df_good_inp))\n",
    "max = len(df_good_inp)\n",
    "\n",
    "trainX = df_good_inp[0:splitX]\n",
    "testX = df_good_inp[splitX+1:max]\n"
   ]
  },
  {
   "cell_type": "code",
   "execution_count": 8,
   "metadata": {},
   "outputs": [],
   "source": [
    "# Train and Test target\n",
    "splitY = round(.70*len(df_good_target))\n",
    "max = len(df_good_target)\n",
    "\n",
    "trainY = df_good_target[0:splitY]\n",
    "testY = df_good_target[splitY+1:max]"
   ]
  },
  {
   "cell_type": "code",
   "execution_count": 9,
   "metadata": {},
   "outputs": [
    {
     "data": {
      "text/plain": [
       "(3647, 6)"
      ]
     },
     "execution_count": 9,
     "metadata": {},
     "output_type": "execute_result"
    }
   ],
   "source": [
    "trainX = np.asarray(trainX)\n",
    "trainX.shape"
   ]
  },
  {
   "cell_type": "code",
   "execution_count": 10,
   "metadata": {},
   "outputs": [
    {
     "data": {
      "text/plain": [
       "(1562, 6)"
      ]
     },
     "execution_count": 10,
     "metadata": {},
     "output_type": "execute_result"
    }
   ],
   "source": [
    "testX = np.asarray(testX)\n",
    "testX.shape"
   ]
  },
  {
   "cell_type": "code",
   "execution_count": 11,
   "metadata": {},
   "outputs": [],
   "source": [
    "sample_size = trainX.shape[0] # number of samples in train set\n",
    "time_steps  = trainX.shape[1] # number of features in train set\n",
    "input_dimension = 1               # each feature is represented by 1 number\n",
    "train_data_reshaped = trainX.reshape(sample_size,time_steps,input_dimension)"
   ]
  },
  {
   "cell_type": "code",
   "execution_count": 12,
   "metadata": {},
   "outputs": [],
   "source": [
    "test_data_reshaped = testX.reshape(testX.shape[0],testX.shape[1],1)"
   ]
  },
  {
   "cell_type": "code",
   "execution_count": 13,
   "metadata": {},
   "outputs": [],
   "source": [
    "# train target\n",
    "train_target1 = np.asarray(trainY['VM1X'])\n",
    "test_target1 = np.asarray(testY['VM1X'])\n",
    "\n",
    "train_target2 = np.asarray(trainY['VM1Y'])\n",
    "test_target2 = np.asarray(testY['VM1Y'])\n",
    "\n",
    "train_target3 = np.asarray(trainY['VM2X'])\n",
    "test_target3 = np.asarray(testY['VM2X'])\n",
    "\n",
    "train_target4 = np.asarray(trainY['VM2Y'])\n",
    "test_target4 = np.asarray(testY['VM2Y'])"
   ]
  },
  {
   "cell_type": "code",
   "execution_count": 18,
   "metadata": {},
   "outputs": [],
   "source": [
    "#trainY = to_categorical(trainY)\n",
    "#testY = to_categorical(testY)"
   ]
  },
  {
   "cell_type": "code",
   "execution_count": 14,
   "metadata": {},
   "outputs": [],
   "source": [
    "kernel_size = 2\n",
    "n_timesteps = train_data_reshaped.shape[1] #13\n",
    "n_features  = train_data_reshaped.shape[2] #1 "
   ]
  },
  {
   "cell_type": "code",
   "execution_count": 15,
   "metadata": {},
   "outputs": [
    {
     "data": {
      "text/plain": [
       "(3647, 6, 1)"
      ]
     },
     "execution_count": 15,
     "metadata": {},
     "output_type": "execute_result"
    }
   ],
   "source": [
    "train_data_reshaped.shape"
   ]
  },
  {
   "cell_type": "code",
   "execution_count": 16,
   "metadata": {},
   "outputs": [
    {
     "data": {
      "text/plain": [
       "(3647,)"
      ]
     },
     "execution_count": 16,
     "metadata": {},
     "output_type": "execute_result"
    }
   ],
   "source": [
    "train_target1.shape"
   ]
  },
  {
   "cell_type": "markdown",
   "metadata": {},
   "source": [
    "### CNN Model"
   ]
  },
  {
   "cell_type": "code",
   "execution_count": 17,
   "metadata": {},
   "outputs": [
    {
     "name": "stdout",
     "output_type": "stream",
     "text": [
      "Created NN Model Instance\n"
     ]
    }
   ],
   "source": [
    "NNM = NNM.TFNNModels()\n",
    "model_conv1D_tar1 = NNM.build_conv1D_model(n_timesteps,n_features,kernel_size)\n",
    "model_conv1D_tar2 = NNM.build_conv1D_model(n_timesteps,n_features,kernel_size)\n",
    "model_conv1D_tar3 = NNM.build_conv1D_model(n_timesteps,n_features,kernel_size)\n",
    "model_conv1D_tar4 = NNM.build_conv1D_model(n_timesteps,n_features,kernel_size)"
   ]
  },
  {
   "cell_type": "code",
   "execution_count": 18,
   "metadata": {},
   "outputs": [
    {
     "name": "stdout",
     "output_type": "stream",
     "text": [
      "Model: \"model_conv1D\"\n",
      "_________________________________________________________________\n",
      " Layer (type)                Output Shape              Param #   \n",
      "=================================================================\n",
      " Conv1D_1 (Conv1D)           (None, 5, 64)             192       \n",
      "                                                                 \n",
      " dropout (Dropout)           (None, 5, 64)             0         \n",
      "                                                                 \n",
      " Conv1D_2 (Conv1D)           (None, 3, 32)             6176      \n",
      "                                                                 \n",
      " Conv1D_3 (Conv1D)           (None, 2, 16)             1040      \n",
      "                                                                 \n",
      " MaxPooling1D (MaxPooling1D)  (None, 1, 16)            0         \n",
      "                                                                 \n",
      " flatten (Flatten)           (None, 16)                0         \n",
      "                                                                 \n",
      " Dense_1 (Dense)             (None, 32)                544       \n",
      "                                                                 \n",
      " Dense_2 (Dense)             (None, 1)                 33        \n",
      "                                                                 \n",
      "=================================================================\n",
      "Total params: 7,985\n",
      "Trainable params: 7,985\n",
      "Non-trainable params: 0\n",
      "_________________________________________________________________\n"
     ]
    }
   ],
   "source": [
    "model_conv1D_tar1.summary()"
   ]
  },
  {
   "cell_type": "code",
   "execution_count": 19,
   "metadata": {},
   "outputs": [],
   "source": [
    "# Store training stats\n",
    "history1 = model_conv1D_tar1.fit(train_data_reshaped, train_target1, epochs=50,\n",
    "                    validation_split=0.2, verbose=0)"
   ]
  },
  {
   "cell_type": "code",
   "execution_count": 20,
   "metadata": {},
   "outputs": [],
   "source": [
    "history2 = model_conv1D_tar2.fit(train_data_reshaped, train_target2, epochs=50,\n",
    "                    validation_split=0.2, verbose=0)"
   ]
  },
  {
   "cell_type": "code",
   "execution_count": 21,
   "metadata": {},
   "outputs": [],
   "source": [
    "history3 = model_conv1D_tar3.fit(train_data_reshaped, train_target3, epochs=50,\n",
    "                    validation_split=0.2, verbose=0)"
   ]
  },
  {
   "cell_type": "code",
   "execution_count": 22,
   "metadata": {},
   "outputs": [],
   "source": [
    "history4 = model_conv1D_tar4.fit(train_data_reshaped, train_target4, epochs=50,\n",
    "                    validation_split=0.2, verbose=0)"
   ]
  },
  {
   "cell_type": "code",
   "execution_count": 38,
   "metadata": {},
   "outputs": [
    {
     "name": "stderr",
     "output_type": "stream",
     "text": [
      "WARNING:absl:Found untraced functions such as _jit_compiled_convolution_op, _jit_compiled_convolution_op, _jit_compiled_convolution_op, _update_step_xla while saving (showing 4 of 4). These functions will not be directly callable after loading.\n"
     ]
    },
    {
     "name": "stdout",
     "output_type": "stream",
     "text": [
      "INFO:tensorflow:Assets written to: Models\\ Newmodel_conv1D_tar1\\assets\n"
     ]
    },
    {
     "name": "stderr",
     "output_type": "stream",
     "text": [
      "INFO:tensorflow:Assets written to: Models\\ Newmodel_conv1D_tar1\\assets\n",
      "WARNING:absl:Found untraced functions such as _jit_compiled_convolution_op, _jit_compiled_convolution_op, _jit_compiled_convolution_op, _update_step_xla while saving (showing 4 of 4). These functions will not be directly callable after loading.\n"
     ]
    },
    {
     "name": "stdout",
     "output_type": "stream",
     "text": [
      "INFO:tensorflow:Assets written to: Models\\ Newmodel_conv1D_tar2\\assets\n"
     ]
    },
    {
     "name": "stderr",
     "output_type": "stream",
     "text": [
      "INFO:tensorflow:Assets written to: Models\\ Newmodel_conv1D_tar2\\assets\n",
      "WARNING:absl:Found untraced functions such as _jit_compiled_convolution_op, _jit_compiled_convolution_op, _jit_compiled_convolution_op, _update_step_xla while saving (showing 4 of 4). These functions will not be directly callable after loading.\n"
     ]
    },
    {
     "name": "stdout",
     "output_type": "stream",
     "text": [
      "INFO:tensorflow:Assets written to: Models\\ Newmodel_conv1D_tar3\\assets\n"
     ]
    },
    {
     "name": "stderr",
     "output_type": "stream",
     "text": [
      "INFO:tensorflow:Assets written to: Models\\ Newmodel_conv1D_tar3\\assets\n",
      "WARNING:absl:Found untraced functions such as _jit_compiled_convolution_op, _jit_compiled_convolution_op, _jit_compiled_convolution_op, _update_step_xla while saving (showing 4 of 4). These functions will not be directly callable after loading.\n"
     ]
    },
    {
     "name": "stdout",
     "output_type": "stream",
     "text": [
      "INFO:tensorflow:Assets written to: Models\\ Newmodel_conv1D_tar4\\assets\n"
     ]
    },
    {
     "name": "stderr",
     "output_type": "stream",
     "text": [
      "INFO:tensorflow:Assets written to: Models\\ Newmodel_conv1D_tar4\\assets\n"
     ]
    }
   ],
   "source": [
    "model_conv1D_tar1.save('Models\\ Newmodel_conv1D_tar1') # Save Model\n",
    "model_conv1D_tar2.save('Models\\ Newmodel_conv1D_tar2') # Save Model\n",
    "model_conv1D_tar3.save('Models\\ Newmodel_conv1D_tar3') # Save Model\n",
    "model_conv1D_tar4.save('Models\\ Newmodel_conv1D_tar4') # Save Model"
   ]
  },
  {
   "cell_type": "code",
   "execution_count": null,
   "metadata": {},
   "outputs": [],
   "source": []
  },
  {
   "cell_type": "code",
   "execution_count": 24,
   "metadata": {},
   "outputs": [],
   "source": [
    "import matplotlib.pyplot as plt\n",
    "def plot_history(history):\n",
    "  plt.figure()\n",
    "  plt.xlabel('Epoch')\n",
    "  plt.ylabel('Mean Abs Error [1000$]')\n",
    "  plt.plot(history.epoch, np.array(history.history['mae']), \n",
    "           label='Train')\n",
    "  plt.plot(history.epoch, np.array(history.history['val_mae']),\n",
    "           label = 'Val')\n",
    "  plt.legend()\n",
    "  plt.ylim([0, np.max(history.history['val_mae'])+ .30*np.max(history.history['val_mae'])])\n",
    "  \n",
    "def plot_prediction(test_labels, test_predictions):\n",
    "  plt.figure()\n",
    "  plt.scatter(test_labels, test_predictions)\n",
    "  plt.xlabel('True Values [1000$]')\n",
    "  plt.ylabel('Predictions [1000$]')\n",
    "  plt.axis('equal')\n",
    "  plt.xlim(plt.xlim())\n",
    "  plt.ylim(plt.ylim())\n",
    "  _ = plt.plot([-100, 100],[-100,100])\n",
    "\n",
    "  plt.figure()\n",
    "  error = test_predictions - test_labels\n",
    "  plt.hist(error, bins = 50)\n",
    "  plt.xlabel(\"Prediction Error [1000$]\")\n",
    "  _ = plt.ylabel(\"Count\")"
   ]
  },
  {
   "cell_type": "code",
   "execution_count": 25,
   "metadata": {},
   "outputs": [
    {
     "data": {
      "image/png": "[encoded data removed]",
      "text/plain": [
       "<Figure size 432x288 with 1 Axes>"
      ]
     },
     "metadata": {
      "needs_background": "light"
     },
     "output_type": "display_data"
    }
   ],
   "source": [
    "plot_history(history1) # (M_1x)"
   ]
  },
  {
   "cell_type": "code",
   "execution_count": 26,
   "metadata": {},
   "outputs": [
    {
     "data": {
      "image/png": "[encoded data removed]",
      "text/plain": [
       "<Figure size 432x288 with 1 Axes>"
      ]
     },
     "metadata": {
      "needs_background": "light"
     },
     "output_type": "display_data"
    }
   ],
   "source": [
    "plot_history(history2) #(M1_y)"
   ]
  },
  {
   "cell_type": "code",
   "execution_count": 27,
   "metadata": {},
   "outputs": [
    {
     "data": {
      "image/png": "[encoded data removed]",
      "text/plain": [
       "<Figure size 432x288 with 1 Axes>"
      ]
     },
     "metadata": {
      "needs_background": "light"
     },
     "output_type": "display_data"
    }
   ],
   "source": [
    "plot_history(history3) #(M2_x)"
   ]
  },
  {
   "cell_type": "code",
   "execution_count": 28,
   "metadata": {},
   "outputs": [
    {
     "data": {
      "image/png": "[encoded data removed]",
      "text/plain": [
       "<Figure size 432x288 with 1 Axes>"
      ]
     },
     "metadata": {
      "needs_background": "light"
     },
     "output_type": "display_data"
    }
   ],
   "source": [
    "plot_history(history4) #(M2_y)"
   ]
  },
  {
   "cell_type": "markdown",
   "metadata": {},
   "source": [
    "#### PLOTS"
   ]
  },
  {
   "cell_type": "code",
   "execution_count": null,
   "metadata": {},
   "outputs": [],
   "source": []
  },
  {
   "cell_type": "code",
   "execution_count": 29,
   "metadata": {},
   "outputs": [
    {
     "name": "stdout",
     "output_type": "stream",
     "text": [
      "49/49 [==============================] - 0s 2ms/step\n",
      "49/49 [==============================] - 0s 2ms/step\n",
      "49/49 [==============================] - 0s 2ms/step\n",
      "49/49 [==============================] - 0s 2ms/step\n"
     ]
    }
   ],
   "source": [
    "test_predictions1=model_conv1D_tar1.predict(test_data_reshaped)\n",
    "test_predictions2=model_conv1D_tar2.predict(test_data_reshaped)\n",
    "test_predictions3=model_conv1D_tar3.predict(test_data_reshaped)\n",
    "test_predictions4=model_conv1D_tar4.predict(test_data_reshaped)"
   ]
  },
  {
   "cell_type": "code",
   "execution_count": 30,
   "metadata": {},
   "outputs": [
    {
     "data": {
      "image/png": "[encoded data removed]",
      "text/plain": [
       "<Figure size 432x288 with 1 Axes>"
      ]
     },
     "metadata": {
      "needs_background": "light"
     },
     "output_type": "display_data"
    },
    {
     "data": {
      "image/png": "[encoded data removed]",
      "text/plain": [
       "<Figure size 432x288 with 1 Axes>"
      ]
     },
     "metadata": {
      "needs_background": "light"
     },
     "output_type": "display_data"
    }
   ],
   "source": [
    "# M1_x\n",
    "plot_prediction(test_target1,test_predictions1)"
   ]
  },
  {
   "cell_type": "code",
   "execution_count": 31,
   "metadata": {},
   "outputs": [
    {
     "data": {
      "image/png": "[encoded data removed]",
      "text/plain": [
       "<Figure size 432x288 with 1 Axes>"
      ]
     },
     "metadata": {
      "needs_background": "light"
     },
     "output_type": "display_data"
    },
    {
     "data": {
      "image/png": "[encoded data removed]",
      "text/plain": [
       "<Figure size 432x288 with 1 Axes>"
      ]
     },
     "metadata": {
      "needs_background": "light"
     },
     "output_type": "display_data"
    }
   ],
   "source": [
    "# M1_y\n",
    "plot_prediction(test_target2,test_predictions2)"
   ]
  },
  {
   "cell_type": "code",
   "execution_count": 32,
   "metadata": {},
   "outputs": [
    {
     "data": {
      "image/png": "[encoded data removed]",
      "text/plain": [
       "<Figure size 432x288 with 1 Axes>"
      ]
     },
     "metadata": {
      "needs_background": "light"
     },
     "output_type": "display_data"
    },
    {
     "data": {
      "image/png": "[encoded data removed]",
      "text/plain": [
       "<Figure size 432x288 with 1 Axes>"
      ]
     },
     "metadata": {
      "needs_background": "light"
     },
     "output_type": "display_data"
    }
   ],
   "source": [
    "plot_prediction(test_target3,test_predictions3)"
   ]
  },
  {
   "cell_type": "code",
   "execution_count": 33,
   "metadata": {},
   "outputs": [
    {
     "data": {
      "image/png": "[encoded data removed]",
      "text/plain": [
       "<Figure size 432x288 with 1 Axes>"
      ]
     },
     "metadata": {
      "needs_background": "light"
     },
     "output_type": "display_data"
    },
    {
     "data": {
      "image/png": "[encoded data removed]",
      "text/plain": [
       "<Figure size 432x288 with 1 Axes>"
      ]
     },
     "metadata": {
      "needs_background": "light"
     },
     "output_type": "display_data"
    }
   ],
   "source": [
    "plot_prediction(test_target4,test_predictions4)"
   ]
  },
  {
   "cell_type": "code",
   "execution_count": 35,
   "metadata": {},
   "outputs": [
    {
     "name": "stdout",
     "output_type": "stream",
     "text": [
      "49/49 [==============================] - 0s 3ms/step\n"
     ]
    },
    {
     "data": {
      "image/png": "[encoded data removed]",
      "text/plain": [
       "<Figure size 432x288 with 1 Axes>"
      ]
     },
     "metadata": {
      "needs_background": "light"
     },
     "output_type": "display_data"
    },
    {
     "data": {
      "image/png": "[encoded data removed]",
      "text/plain": [
       "<Figure size 432x288 with 1 Axes>"
      ]
     },
     "metadata": {
      "needs_background": "light"
     },
     "output_type": "display_data"
    }
   ],
   "source": [
    "# Test with dummy model for target 4\n",
    "model_conv1D_tardummy = NNM.build_conv1D_model(n_timesteps,n_features,kernel_size)\n",
    "test_predictionsdummy_4 = model_conv1D_tardummy.predict(test_data_reshaped)\n",
    "plot_prediction(test_target4,test_predictionsdummy_4)"
   ]
  },
  {
   "cell_type": "markdown",
   "metadata": {},
   "source": [
    "### Test Set Prediciton"
   ]
  },
  {
   "cell_type": "code",
   "execution_count": null,
   "metadata": {},
   "outputs": [],
   "source": []
  },
  {
   "cell_type": "code",
   "execution_count": null,
   "metadata": {},
   "outputs": [],
   "source": []
  },
  {
   "cell_type": "code",
   "execution_count": null,
   "metadata": {},
   "outputs": [],
   "source": []
  },
  {
   "cell_type": "code",
   "execution_count": null,
   "metadata": {},
   "outputs": [],
   "source": []
  }
 ],
 "metadata": {
  "kernelspec": {
   "display_name": "Python 3 (ipykernel)",
   "language": "python",
   "name": "python3"
  },
  "language_info": {
   "codemirror_mode": {
    "name": "ipython",
    "version": 3
   },
   "file_extension": ".py",
   "mimetype": "text/x-python",
   "name": "python",
   "nbconvert_exporter": "python",
   "pygments_lexer": "ipython3",
   "version": "3.11.5"
  }
 },
 "nbformat": 4,
 "nbformat_minor": 4
}
